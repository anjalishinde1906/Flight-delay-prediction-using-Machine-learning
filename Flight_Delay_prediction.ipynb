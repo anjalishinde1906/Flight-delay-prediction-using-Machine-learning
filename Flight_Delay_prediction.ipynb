{
  "cells": [
    {
      "cell_type": "markdown",
      "metadata": {
        "id": "IQvbqLh__pOl"
      },
      "source": []
    },
    {
      "cell_type": "code",
      "execution_count": 1,
      "metadata": {
        "id": "GyOi6w0cdPx4"
      },
      "outputs": [],
      "source": [
        "import numpy as np\n",
        "import pandas as pd\n",
        "import matplotlib.pyplot as plt\n",
        "import seaborn as sb\n",
        "import datetime, warnings, scipy\n",
        "warnings.filterwarnings(\"ignore\")"
      ]
    },
    {
      "cell_type": "code",
      "execution_count": 2,
      "metadata": {
        "colab": {
          "base_uri": "https://localhost:8080/",
          "height": 446
        },
        "id": "U9Y3DeFA1hIy",
        "outputId": "38bde602-dd09-4fa8-f68c-9b79c9684b6d"
      },
      "outputs": [
        {
          "output_type": "execute_result",
          "data": {
            "text/plain": [
              "      FL_DATE                AIRLINE                AIRLINE_DOT AIRLINE_CODE  \\\n",
              "0  2019-01-09  United Air Lines Inc.  United Air Lines Inc.: UA           UA   \n",
              "1  2022-11-19   Delta Air Lines Inc.   Delta Air Lines Inc.: DL           DL   \n",
              "2  2022-07-22  United Air Lines Inc.  United Air Lines Inc.: UA           UA   \n",
              "3  2023-03-06   Delta Air Lines Inc.   Delta Air Lines Inc.: DL           DL   \n",
              "4  2020-02-23       Spirit Air Lines       Spirit Air Lines: NK           NK   \n",
              "\n",
              "   DOT_CODE  FL_NUMBER ORIGIN          ORIGIN_CITY DEST  \\\n",
              "0     19977       1562    FLL  Fort Lauderdale, FL  EWR   \n",
              "1     19790       1149    MSP      Minneapolis, MN  SEA   \n",
              "2     19977        459    DEN           Denver, CO  MSP   \n",
              "3     19790       2295    MSP      Minneapolis, MN  SFO   \n",
              "4     20416        407    MCO          Orlando, FL  DFW   \n",
              "\n",
              "               DEST_CITY  ...  DIVERTED  CRS_ELAPSED_TIME  ELAPSED_TIME  \\\n",
              "0             Newark, NJ  ...       0.0             186.0         176.0   \n",
              "1            Seattle, WA  ...       0.0             235.0         236.0   \n",
              "2        Minneapolis, MN  ...       0.0             118.0         112.0   \n",
              "3      San Francisco, CA  ...       0.0             260.0         285.0   \n",
              "4  Dallas/Fort Worth, TX  ...       0.0             181.0         182.0   \n",
              "\n",
              "   AIR_TIME  DISTANCE  DELAY_DUE_CARRIER  DELAY_DUE_WEATHER  DELAY_DUE_NAS  \\\n",
              "0     153.0    1065.0                NaN                NaN            NaN   \n",
              "1     189.0    1399.0                NaN                NaN            NaN   \n",
              "2      87.0     680.0                NaN                NaN            NaN   \n",
              "3     249.0    1589.0                0.0                0.0           24.0   \n",
              "4     153.0     985.0                NaN                NaN            NaN   \n",
              "\n",
              "   DELAY_DUE_SECURITY  DELAY_DUE_LATE_AIRCRAFT  \n",
              "0                 NaN                      NaN  \n",
              "1                 NaN                      NaN  \n",
              "2                 NaN                      NaN  \n",
              "3                 0.0                      0.0  \n",
              "4                 NaN                      NaN  \n",
              "\n",
              "[5 rows x 32 columns]"
            ],
            "text/html": [
              "\n",
              "  <div id=\"df-201eea8c-f422-48f8-bb0d-f3da4cef7daf\" class=\"colab-df-container\">\n",
              "    <div>\n",
              "<style scoped>\n",
              "    .dataframe tbody tr th:only-of-type {\n",
              "        vertical-align: middle;\n",
              "    }\n",
              "\n",
              "    .dataframe tbody tr th {\n",
              "        vertical-align: top;\n",
              "    }\n",
              "\n",
              "    .dataframe thead th {\n",
              "        text-align: right;\n",
              "    }\n",
              "</style>\n",
              "<table border=\"1\" class=\"dataframe\">\n",
              "  <thead>\n",
              "    <tr style=\"text-align: right;\">\n",
              "      <th></th>\n",
              "      <th>FL_DATE</th>\n",
              "      <th>AIRLINE</th>\n",
              "      <th>AIRLINE_DOT</th>\n",
              "      <th>AIRLINE_CODE</th>\n",
              "      <th>DOT_CODE</th>\n",
              "      <th>FL_NUMBER</th>\n",
              "      <th>ORIGIN</th>\n",
              "      <th>ORIGIN_CITY</th>\n",
              "      <th>DEST</th>\n",
              "      <th>DEST_CITY</th>\n",
              "      <th>...</th>\n",
              "      <th>DIVERTED</th>\n",
              "      <th>CRS_ELAPSED_TIME</th>\n",
              "      <th>ELAPSED_TIME</th>\n",
              "      <th>AIR_TIME</th>\n",
              "      <th>DISTANCE</th>\n",
              "      <th>DELAY_DUE_CARRIER</th>\n",
              "      <th>DELAY_DUE_WEATHER</th>\n",
              "      <th>DELAY_DUE_NAS</th>\n",
              "      <th>DELAY_DUE_SECURITY</th>\n",
              "      <th>DELAY_DUE_LATE_AIRCRAFT</th>\n",
              "    </tr>\n",
              "  </thead>\n",
              "  <tbody>\n",
              "    <tr>\n",
              "      <th>0</th>\n",
              "      <td>2019-01-09</td>\n",
              "      <td>United Air Lines Inc.</td>\n",
              "      <td>United Air Lines Inc.: UA</td>\n",
              "      <td>UA</td>\n",
              "      <td>19977</td>\n",
              "      <td>1562</td>\n",
              "      <td>FLL</td>\n",
              "      <td>Fort Lauderdale, FL</td>\n",
              "      <td>EWR</td>\n",
              "      <td>Newark, NJ</td>\n",
              "      <td>...</td>\n",
              "      <td>0.0</td>\n",
              "      <td>186.0</td>\n",
              "      <td>176.0</td>\n",
              "      <td>153.0</td>\n",
              "      <td>1065.0</td>\n",
              "      <td>NaN</td>\n",
              "      <td>NaN</td>\n",
              "      <td>NaN</td>\n",
              "      <td>NaN</td>\n",
              "      <td>NaN</td>\n",
              "    </tr>\n",
              "    <tr>\n",
              "      <th>1</th>\n",
              "      <td>2022-11-19</td>\n",
              "      <td>Delta Air Lines Inc.</td>\n",
              "      <td>Delta Air Lines Inc.: DL</td>\n",
              "      <td>DL</td>\n",
              "      <td>19790</td>\n",
              "      <td>1149</td>\n",
              "      <td>MSP</td>\n",
              "      <td>Minneapolis, MN</td>\n",
              "      <td>SEA</td>\n",
              "      <td>Seattle, WA</td>\n",
              "      <td>...</td>\n",
              "      <td>0.0</td>\n",
              "      <td>235.0</td>\n",
              "      <td>236.0</td>\n",
              "      <td>189.0</td>\n",
              "      <td>1399.0</td>\n",
              "      <td>NaN</td>\n",
              "      <td>NaN</td>\n",
              "      <td>NaN</td>\n",
              "      <td>NaN</td>\n",
              "      <td>NaN</td>\n",
              "    </tr>\n",
              "    <tr>\n",
              "      <th>2</th>\n",
              "      <td>2022-07-22</td>\n",
              "      <td>United Air Lines Inc.</td>\n",
              "      <td>United Air Lines Inc.: UA</td>\n",
              "      <td>UA</td>\n",
              "      <td>19977</td>\n",
              "      <td>459</td>\n",
              "      <td>DEN</td>\n",
              "      <td>Denver, CO</td>\n",
              "      <td>MSP</td>\n",
              "      <td>Minneapolis, MN</td>\n",
              "      <td>...</td>\n",
              "      <td>0.0</td>\n",
              "      <td>118.0</td>\n",
              "      <td>112.0</td>\n",
              "      <td>87.0</td>\n",
              "      <td>680.0</td>\n",
              "      <td>NaN</td>\n",
              "      <td>NaN</td>\n",
              "      <td>NaN</td>\n",
              "      <td>NaN</td>\n",
              "      <td>NaN</td>\n",
              "    </tr>\n",
              "    <tr>\n",
              "      <th>3</th>\n",
              "      <td>2023-03-06</td>\n",
              "      <td>Delta Air Lines Inc.</td>\n",
              "      <td>Delta Air Lines Inc.: DL</td>\n",
              "      <td>DL</td>\n",
              "      <td>19790</td>\n",
              "      <td>2295</td>\n",
              "      <td>MSP</td>\n",
              "      <td>Minneapolis, MN</td>\n",
              "      <td>SFO</td>\n",
              "      <td>San Francisco, CA</td>\n",
              "      <td>...</td>\n",
              "      <td>0.0</td>\n",
              "      <td>260.0</td>\n",
              "      <td>285.0</td>\n",
              "      <td>249.0</td>\n",
              "      <td>1589.0</td>\n",
              "      <td>0.0</td>\n",
              "      <td>0.0</td>\n",
              "      <td>24.0</td>\n",
              "      <td>0.0</td>\n",
              "      <td>0.0</td>\n",
              "    </tr>\n",
              "    <tr>\n",
              "      <th>4</th>\n",
              "      <td>2020-02-23</td>\n",
              "      <td>Spirit Air Lines</td>\n",
              "      <td>Spirit Air Lines: NK</td>\n",
              "      <td>NK</td>\n",
              "      <td>20416</td>\n",
              "      <td>407</td>\n",
              "      <td>MCO</td>\n",
              "      <td>Orlando, FL</td>\n",
              "      <td>DFW</td>\n",
              "      <td>Dallas/Fort Worth, TX</td>\n",
              "      <td>...</td>\n",
              "      <td>0.0</td>\n",
              "      <td>181.0</td>\n",
              "      <td>182.0</td>\n",
              "      <td>153.0</td>\n",
              "      <td>985.0</td>\n",
              "      <td>NaN</td>\n",
              "      <td>NaN</td>\n",
              "      <td>NaN</td>\n",
              "      <td>NaN</td>\n",
              "      <td>NaN</td>\n",
              "    </tr>\n",
              "  </tbody>\n",
              "</table>\n",
              "<p>5 rows × 32 columns</p>\n",
              "</div>\n",
              "    <div class=\"colab-df-buttons\">\n",
              "\n",
              "  <div class=\"colab-df-container\">\n",
              "    <button class=\"colab-df-convert\" onclick=\"convertToInteractive('df-201eea8c-f422-48f8-bb0d-f3da4cef7daf')\"\n",
              "            title=\"Convert this dataframe to an interactive table.\"\n",
              "            style=\"display:none;\">\n",
              "\n",
              "  <svg xmlns=\"http://www.w3.org/2000/svg\" height=\"24px\" viewBox=\"0 -960 960 960\">\n",
              "    <path d=\"M120-120v-720h720v720H120Zm60-500h600v-160H180v160Zm220 220h160v-160H400v160Zm0 220h160v-160H400v160ZM180-400h160v-160H180v160Zm440 0h160v-160H620v160ZM180-180h160v-160H180v160Zm440 0h160v-160H620v160Z\"/>\n",
              "  </svg>\n",
              "    </button>\n",
              "\n",
              "  <style>\n",
              "    .colab-df-container {\n",
              "      display:flex;\n",
              "      gap: 12px;\n",
              "    }\n",
              "\n",
              "    .colab-df-convert {\n",
              "      background-color: #E8F0FE;\n",
              "      border: none;\n",
              "      border-radius: 50%;\n",
              "      cursor: pointer;\n",
              "      display: none;\n",
              "      fill: #1967D2;\n",
              "      height: 32px;\n",
              "      padding: 0 0 0 0;\n",
              "      width: 32px;\n",
              "    }\n",
              "\n",
              "    .colab-df-convert:hover {\n",
              "      background-color: #E2EBFA;\n",
              "      box-shadow: 0px 1px 2px rgba(60, 64, 67, 0.3), 0px 1px 3px 1px rgba(60, 64, 67, 0.15);\n",
              "      fill: #174EA6;\n",
              "    }\n",
              "\n",
              "    .colab-df-buttons div {\n",
              "      margin-bottom: 4px;\n",
              "    }\n",
              "\n",
              "    [theme=dark] .colab-df-convert {\n",
              "      background-color: #3B4455;\n",
              "      fill: #D2E3FC;\n",
              "    }\n",
              "\n",
              "    [theme=dark] .colab-df-convert:hover {\n",
              "      background-color: #434B5C;\n",
              "      box-shadow: 0px 1px 3px 1px rgba(0, 0, 0, 0.15);\n",
              "      filter: drop-shadow(0px 1px 2px rgba(0, 0, 0, 0.3));\n",
              "      fill: #FFFFFF;\n",
              "    }\n",
              "  </style>\n",
              "\n",
              "    <script>\n",
              "      const buttonEl =\n",
              "        document.querySelector('#df-201eea8c-f422-48f8-bb0d-f3da4cef7daf button.colab-df-convert');\n",
              "      buttonEl.style.display =\n",
              "        google.colab.kernel.accessAllowed ? 'block' : 'none';\n",
              "\n",
              "      async function convertToInteractive(key) {\n",
              "        const element = document.querySelector('#df-201eea8c-f422-48f8-bb0d-f3da4cef7daf');\n",
              "        const dataTable =\n",
              "          await google.colab.kernel.invokeFunction('convertToInteractive',\n",
              "                                                    [key], {});\n",
              "        if (!dataTable) return;\n",
              "\n",
              "        const docLinkHtml = 'Like what you see? Visit the ' +\n",
              "          '<a target=\"_blank\" href=https://colab.research.google.com/notebooks/data_table.ipynb>data table notebook</a>'\n",
              "          + ' to learn more about interactive tables.';\n",
              "        element.innerHTML = '';\n",
              "        dataTable['output_type'] = 'display_data';\n",
              "        await google.colab.output.renderOutput(dataTable, element);\n",
              "        const docLink = document.createElement('div');\n",
              "        docLink.innerHTML = docLinkHtml;\n",
              "        element.appendChild(docLink);\n",
              "      }\n",
              "    </script>\n",
              "  </div>\n",
              "\n",
              "\n",
              "<div id=\"df-940823f8-1843-4c4b-9cfe-b0e7db0d717e\">\n",
              "  <button class=\"colab-df-quickchart\" onclick=\"quickchart('df-940823f8-1843-4c4b-9cfe-b0e7db0d717e')\"\n",
              "            title=\"Suggest charts\"\n",
              "            style=\"display:none;\">\n",
              "\n",
              "<svg xmlns=\"http://www.w3.org/2000/svg\" height=\"24px\"viewBox=\"0 0 24 24\"\n",
              "     width=\"24px\">\n",
              "    <g>\n",
              "        <path d=\"M19 3H5c-1.1 0-2 .9-2 2v14c0 1.1.9 2 2 2h14c1.1 0 2-.9 2-2V5c0-1.1-.9-2-2-2zM9 17H7v-7h2v7zm4 0h-2V7h2v10zm4 0h-2v-4h2v4z\"/>\n",
              "    </g>\n",
              "</svg>\n",
              "  </button>\n",
              "\n",
              "<style>\n",
              "  .colab-df-quickchart {\n",
              "      --bg-color: #E8F0FE;\n",
              "      --fill-color: #1967D2;\n",
              "      --hover-bg-color: #E2EBFA;\n",
              "      --hover-fill-color: #174EA6;\n",
              "      --disabled-fill-color: #AAA;\n",
              "      --disabled-bg-color: #DDD;\n",
              "  }\n",
              "\n",
              "  [theme=dark] .colab-df-quickchart {\n",
              "      --bg-color: #3B4455;\n",
              "      --fill-color: #D2E3FC;\n",
              "      --hover-bg-color: #434B5C;\n",
              "      --hover-fill-color: #FFFFFF;\n",
              "      --disabled-bg-color: #3B4455;\n",
              "      --disabled-fill-color: #666;\n",
              "  }\n",
              "\n",
              "  .colab-df-quickchart {\n",
              "    background-color: var(--bg-color);\n",
              "    border: none;\n",
              "    border-radius: 50%;\n",
              "    cursor: pointer;\n",
              "    display: none;\n",
              "    fill: var(--fill-color);\n",
              "    height: 32px;\n",
              "    padding: 0;\n",
              "    width: 32px;\n",
              "  }\n",
              "\n",
              "  .colab-df-quickchart:hover {\n",
              "    background-color: var(--hover-bg-color);\n",
              "    box-shadow: 0 1px 2px rgba(60, 64, 67, 0.3), 0 1px 3px 1px rgba(60, 64, 67, 0.15);\n",
              "    fill: var(--button-hover-fill-color);\n",
              "  }\n",
              "\n",
              "  .colab-df-quickchart-complete:disabled,\n",
              "  .colab-df-quickchart-complete:disabled:hover {\n",
              "    background-color: var(--disabled-bg-color);\n",
              "    fill: var(--disabled-fill-color);\n",
              "    box-shadow: none;\n",
              "  }\n",
              "\n",
              "  .colab-df-spinner {\n",
              "    border: 2px solid var(--fill-color);\n",
              "    border-color: transparent;\n",
              "    border-bottom-color: var(--fill-color);\n",
              "    animation:\n",
              "      spin 1s steps(1) infinite;\n",
              "  }\n",
              "\n",
              "  @keyframes spin {\n",
              "    0% {\n",
              "      border-color: transparent;\n",
              "      border-bottom-color: var(--fill-color);\n",
              "      border-left-color: var(--fill-color);\n",
              "    }\n",
              "    20% {\n",
              "      border-color: transparent;\n",
              "      border-left-color: var(--fill-color);\n",
              "      border-top-color: var(--fill-color);\n",
              "    }\n",
              "    30% {\n",
              "      border-color: transparent;\n",
              "      border-left-color: var(--fill-color);\n",
              "      border-top-color: var(--fill-color);\n",
              "      border-right-color: var(--fill-color);\n",
              "    }\n",
              "    40% {\n",
              "      border-color: transparent;\n",
              "      border-right-color: var(--fill-color);\n",
              "      border-top-color: var(--fill-color);\n",
              "    }\n",
              "    60% {\n",
              "      border-color: transparent;\n",
              "      border-right-color: var(--fill-color);\n",
              "    }\n",
              "    80% {\n",
              "      border-color: transparent;\n",
              "      border-right-color: var(--fill-color);\n",
              "      border-bottom-color: var(--fill-color);\n",
              "    }\n",
              "    90% {\n",
              "      border-color: transparent;\n",
              "      border-bottom-color: var(--fill-color);\n",
              "    }\n",
              "  }\n",
              "</style>\n",
              "\n",
              "  <script>\n",
              "    async function quickchart(key) {\n",
              "      const quickchartButtonEl =\n",
              "        document.querySelector('#' + key + ' button');\n",
              "      quickchartButtonEl.disabled = true;  // To prevent multiple clicks.\n",
              "      quickchartButtonEl.classList.add('colab-df-spinner');\n",
              "      try {\n",
              "        const charts = await google.colab.kernel.invokeFunction(\n",
              "            'suggestCharts', [key], {});\n",
              "      } catch (error) {\n",
              "        console.error('Error during call to suggestCharts:', error);\n",
              "      }\n",
              "      quickchartButtonEl.classList.remove('colab-df-spinner');\n",
              "      quickchartButtonEl.classList.add('colab-df-quickchart-complete');\n",
              "    }\n",
              "    (() => {\n",
              "      let quickchartButtonEl =\n",
              "        document.querySelector('#df-940823f8-1843-4c4b-9cfe-b0e7db0d717e button');\n",
              "      quickchartButtonEl.style.display =\n",
              "        google.colab.kernel.accessAllowed ? 'block' : 'none';\n",
              "    })();\n",
              "  </script>\n",
              "</div>\n",
              "    </div>\n",
              "  </div>\n"
            ],
            "application/vnd.google.colaboratory.intrinsic+json": {
              "type": "dataframe",
              "variable_name": "df"
            }
          },
          "metadata": {},
          "execution_count": 2
        }
      ],
      "source": [
        "df = pd.read_csv('/content/flights_sample_3m.csv')\n",
        "df.head(5)"
      ]
    },
    {
      "cell_type": "code",
      "execution_count": 3,
      "metadata": {
        "colab": {
          "base_uri": "https://localhost:8080/",
          "height": 411
        },
        "id": "-5VyMuR22rSn",
        "outputId": "f980d67c-fed5-4953-d78e-3447a37cd950"
      },
      "outputs": [
        {
          "output_type": "execute_result",
          "data": {
            "text/plain": [
              "            FL_DATE                 AIRLINE                 AIRLINE_DOT  \\\n",
              "2999995  2022-11-13  American Airlines Inc.  American Airlines Inc.: AA   \n",
              "2999996  2022-11-02  American Airlines Inc.  American Airlines Inc.: AA   \n",
              "2999997  2022-09-11    Delta Air Lines Inc.    Delta Air Lines Inc.: DL   \n",
              "2999998  2019-11-13        Republic Airline        Republic Airline: YX   \n",
              "2999999  2019-06-15  Southwest Airlines Co.  Southwest Airlines Co.: WN   \n",
              "\n",
              "        AIRLINE_CODE  DOT_CODE  FL_NUMBER ORIGIN       ORIGIN_CITY DEST  \\\n",
              "2999995           AA     19805       1522    JAX  Jacksonville, FL  CLT   \n",
              "2999996           AA     19805       1535    ORD       Chicago, IL  AUS   \n",
              "2999997           DL     19790       2745    HSV    Huntsville, AL  ATL   \n",
              "2999998           YX     20452       6134    BOS        Boston, MA  LGA   \n",
              "2999999           WN     19393       2823    LGB    Long Beach, CA  SJC   \n",
              "\n",
              "             DEST_CITY  ...  DIVERTED  CRS_ELAPSED_TIME  ELAPSED_TIME  \\\n",
              "2999995  Charlotte, NC  ...       0.0              85.0          71.0   \n",
              "2999996     Austin, TX  ...       0.0             176.0         145.0   \n",
              "2999997    Atlanta, GA  ...       0.0              55.0          50.0   \n",
              "2999998   New York, NY  ...       0.0              88.0          77.0   \n",
              "2999999   San Jose, CA  ...       0.0              70.0          63.0   \n",
              "\n",
              "         AIR_TIME  DISTANCE  DELAY_DUE_CARRIER  DELAY_DUE_WEATHER  \\\n",
              "2999995      55.0     328.0                NaN                NaN   \n",
              "2999996     130.0     977.0                NaN                NaN   \n",
              "2999997      28.0     151.0                0.0               36.0   \n",
              "2999998      50.0     184.0                NaN                NaN   \n",
              "2999999      52.0     324.0                NaN                NaN   \n",
              "\n",
              "         DELAY_DUE_NAS  DELAY_DUE_SECURITY  DELAY_DUE_LATE_AIRCRAFT  \n",
              "2999995            NaN                 NaN                      NaN  \n",
              "2999996            NaN                 NaN                      NaN  \n",
              "2999997            0.0                 0.0                      0.0  \n",
              "2999998            NaN                 NaN                      NaN  \n",
              "2999999            NaN                 NaN                      NaN  \n",
              "\n",
              "[5 rows x 32 columns]"
            ],
            "text/html": [
              "\n",
              "  <div id=\"df-03e6a453-dd67-483b-89c9-f70d05959bd7\" class=\"colab-df-container\">\n",
              "    <div>\n",
              "<style scoped>\n",
              "    .dataframe tbody tr th:only-of-type {\n",
              "        vertical-align: middle;\n",
              "    }\n",
              "\n",
              "    .dataframe tbody tr th {\n",
              "        vertical-align: top;\n",
              "    }\n",
              "\n",
              "    .dataframe thead th {\n",
              "        text-align: right;\n",
              "    }\n",
              "</style>\n",
              "<table border=\"1\" class=\"dataframe\">\n",
              "  <thead>\n",
              "    <tr style=\"text-align: right;\">\n",
              "      <th></th>\n",
              "      <th>FL_DATE</th>\n",
              "      <th>AIRLINE</th>\n",
              "      <th>AIRLINE_DOT</th>\n",
              "      <th>AIRLINE_CODE</th>\n",
              "      <th>DOT_CODE</th>\n",
              "      <th>FL_NUMBER</th>\n",
              "      <th>ORIGIN</th>\n",
              "      <th>ORIGIN_CITY</th>\n",
              "      <th>DEST</th>\n",
              "      <th>DEST_CITY</th>\n",
              "      <th>...</th>\n",
              "      <th>DIVERTED</th>\n",
              "      <th>CRS_ELAPSED_TIME</th>\n",
              "      <th>ELAPSED_TIME</th>\n",
              "      <th>AIR_TIME</th>\n",
              "      <th>DISTANCE</th>\n",
              "      <th>DELAY_DUE_CARRIER</th>\n",
              "      <th>DELAY_DUE_WEATHER</th>\n",
              "      <th>DELAY_DUE_NAS</th>\n",
              "      <th>DELAY_DUE_SECURITY</th>\n",
              "      <th>DELAY_DUE_LATE_AIRCRAFT</th>\n",
              "    </tr>\n",
              "  </thead>\n",
              "  <tbody>\n",
              "    <tr>\n",
              "      <th>2999995</th>\n",
              "      <td>2022-11-13</td>\n",
              "      <td>American Airlines Inc.</td>\n",
              "      <td>American Airlines Inc.: AA</td>\n",
              "      <td>AA</td>\n",
              "      <td>19805</td>\n",
              "      <td>1522</td>\n",
              "      <td>JAX</td>\n",
              "      <td>Jacksonville, FL</td>\n",
              "      <td>CLT</td>\n",
              "      <td>Charlotte, NC</td>\n",
              "      <td>...</td>\n",
              "      <td>0.0</td>\n",
              "      <td>85.0</td>\n",
              "      <td>71.0</td>\n",
              "      <td>55.0</td>\n",
              "      <td>328.0</td>\n",
              "      <td>NaN</td>\n",
              "      <td>NaN</td>\n",
              "      <td>NaN</td>\n",
              "      <td>NaN</td>\n",
              "      <td>NaN</td>\n",
              "    </tr>\n",
              "    <tr>\n",
              "      <th>2999996</th>\n",
              "      <td>2022-11-02</td>\n",
              "      <td>American Airlines Inc.</td>\n",
              "      <td>American Airlines Inc.: AA</td>\n",
              "      <td>AA</td>\n",
              "      <td>19805</td>\n",
              "      <td>1535</td>\n",
              "      <td>ORD</td>\n",
              "      <td>Chicago, IL</td>\n",
              "      <td>AUS</td>\n",
              "      <td>Austin, TX</td>\n",
              "      <td>...</td>\n",
              "      <td>0.0</td>\n",
              "      <td>176.0</td>\n",
              "      <td>145.0</td>\n",
              "      <td>130.0</td>\n",
              "      <td>977.0</td>\n",
              "      <td>NaN</td>\n",
              "      <td>NaN</td>\n",
              "      <td>NaN</td>\n",
              "      <td>NaN</td>\n",
              "      <td>NaN</td>\n",
              "    </tr>\n",
              "    <tr>\n",
              "      <th>2999997</th>\n",
              "      <td>2022-09-11</td>\n",
              "      <td>Delta Air Lines Inc.</td>\n",
              "      <td>Delta Air Lines Inc.: DL</td>\n",
              "      <td>DL</td>\n",
              "      <td>19790</td>\n",
              "      <td>2745</td>\n",
              "      <td>HSV</td>\n",
              "      <td>Huntsville, AL</td>\n",
              "      <td>ATL</td>\n",
              "      <td>Atlanta, GA</td>\n",
              "      <td>...</td>\n",
              "      <td>0.0</td>\n",
              "      <td>55.0</td>\n",
              "      <td>50.0</td>\n",
              "      <td>28.0</td>\n",
              "      <td>151.0</td>\n",
              "      <td>0.0</td>\n",
              "      <td>36.0</td>\n",
              "      <td>0.0</td>\n",
              "      <td>0.0</td>\n",
              "      <td>0.0</td>\n",
              "    </tr>\n",
              "    <tr>\n",
              "      <th>2999998</th>\n",
              "      <td>2019-11-13</td>\n",
              "      <td>Republic Airline</td>\n",
              "      <td>Republic Airline: YX</td>\n",
              "      <td>YX</td>\n",
              "      <td>20452</td>\n",
              "      <td>6134</td>\n",
              "      <td>BOS</td>\n",
              "      <td>Boston, MA</td>\n",
              "      <td>LGA</td>\n",
              "      <td>New York, NY</td>\n",
              "      <td>...</td>\n",
              "      <td>0.0</td>\n",
              "      <td>88.0</td>\n",
              "      <td>77.0</td>\n",
              "      <td>50.0</td>\n",
              "      <td>184.0</td>\n",
              "      <td>NaN</td>\n",
              "      <td>NaN</td>\n",
              "      <td>NaN</td>\n",
              "      <td>NaN</td>\n",
              "      <td>NaN</td>\n",
              "    </tr>\n",
              "    <tr>\n",
              "      <th>2999999</th>\n",
              "      <td>2019-06-15</td>\n",
              "      <td>Southwest Airlines Co.</td>\n",
              "      <td>Southwest Airlines Co.: WN</td>\n",
              "      <td>WN</td>\n",
              "      <td>19393</td>\n",
              "      <td>2823</td>\n",
              "      <td>LGB</td>\n",
              "      <td>Long Beach, CA</td>\n",
              "      <td>SJC</td>\n",
              "      <td>San Jose, CA</td>\n",
              "      <td>...</td>\n",
              "      <td>0.0</td>\n",
              "      <td>70.0</td>\n",
              "      <td>63.0</td>\n",
              "      <td>52.0</td>\n",
              "      <td>324.0</td>\n",
              "      <td>NaN</td>\n",
              "      <td>NaN</td>\n",
              "      <td>NaN</td>\n",
              "      <td>NaN</td>\n",
              "      <td>NaN</td>\n",
              "    </tr>\n",
              "  </tbody>\n",
              "</table>\n",
              "<p>5 rows × 32 columns</p>\n",
              "</div>\n",
              "    <div class=\"colab-df-buttons\">\n",
              "\n",
              "  <div class=\"colab-df-container\">\n",
              "    <button class=\"colab-df-convert\" onclick=\"convertToInteractive('df-03e6a453-dd67-483b-89c9-f70d05959bd7')\"\n",
              "            title=\"Convert this dataframe to an interactive table.\"\n",
              "            style=\"display:none;\">\n",
              "\n",
              "  <svg xmlns=\"http://www.w3.org/2000/svg\" height=\"24px\" viewBox=\"0 -960 960 960\">\n",
              "    <path d=\"M120-120v-720h720v720H120Zm60-500h600v-160H180v160Zm220 220h160v-160H400v160Zm0 220h160v-160H400v160ZM180-400h160v-160H180v160Zm440 0h160v-160H620v160ZM180-180h160v-160H180v160Zm440 0h160v-160H620v160Z\"/>\n",
              "  </svg>\n",
              "    </button>\n",
              "\n",
              "  <style>\n",
              "    .colab-df-container {\n",
              "      display:flex;\n",
              "      gap: 12px;\n",
              "    }\n",
              "\n",
              "    .colab-df-convert {\n",
              "      background-color: #E8F0FE;\n",
              "      border: none;\n",
              "      border-radius: 50%;\n",
              "      cursor: pointer;\n",
              "      display: none;\n",
              "      fill: #1967D2;\n",
              "      height: 32px;\n",
              "      padding: 0 0 0 0;\n",
              "      width: 32px;\n",
              "    }\n",
              "\n",
              "    .colab-df-convert:hover {\n",
              "      background-color: #E2EBFA;\n",
              "      box-shadow: 0px 1px 2px rgba(60, 64, 67, 0.3), 0px 1px 3px 1px rgba(60, 64, 67, 0.15);\n",
              "      fill: #174EA6;\n",
              "    }\n",
              "\n",
              "    .colab-df-buttons div {\n",
              "      margin-bottom: 4px;\n",
              "    }\n",
              "\n",
              "    [theme=dark] .colab-df-convert {\n",
              "      background-color: #3B4455;\n",
              "      fill: #D2E3FC;\n",
              "    }\n",
              "\n",
              "    [theme=dark] .colab-df-convert:hover {\n",
              "      background-color: #434B5C;\n",
              "      box-shadow: 0px 1px 3px 1px rgba(0, 0, 0, 0.15);\n",
              "      filter: drop-shadow(0px 1px 2px rgba(0, 0, 0, 0.3));\n",
              "      fill: #FFFFFF;\n",
              "    }\n",
              "  </style>\n",
              "\n",
              "    <script>\n",
              "      const buttonEl =\n",
              "        document.querySelector('#df-03e6a453-dd67-483b-89c9-f70d05959bd7 button.colab-df-convert');\n",
              "      buttonEl.style.display =\n",
              "        google.colab.kernel.accessAllowed ? 'block' : 'none';\n",
              "\n",
              "      async function convertToInteractive(key) {\n",
              "        const element = document.querySelector('#df-03e6a453-dd67-483b-89c9-f70d05959bd7');\n",
              "        const dataTable =\n",
              "          await google.colab.kernel.invokeFunction('convertToInteractive',\n",
              "                                                    [key], {});\n",
              "        if (!dataTable) return;\n",
              "\n",
              "        const docLinkHtml = 'Like what you see? Visit the ' +\n",
              "          '<a target=\"_blank\" href=https://colab.research.google.com/notebooks/data_table.ipynb>data table notebook</a>'\n",
              "          + ' to learn more about interactive tables.';\n",
              "        element.innerHTML = '';\n",
              "        dataTable['output_type'] = 'display_data';\n",
              "        await google.colab.output.renderOutput(dataTable, element);\n",
              "        const docLink = document.createElement('div');\n",
              "        docLink.innerHTML = docLinkHtml;\n",
              "        element.appendChild(docLink);\n",
              "      }\n",
              "    </script>\n",
              "  </div>\n",
              "\n",
              "\n",
              "<div id=\"df-ce25cbd3-88b2-40f5-812d-4c9ff6bc0074\">\n",
              "  <button class=\"colab-df-quickchart\" onclick=\"quickchart('df-ce25cbd3-88b2-40f5-812d-4c9ff6bc0074')\"\n",
              "            title=\"Suggest charts\"\n",
              "            style=\"display:none;\">\n",
              "\n",
              "<svg xmlns=\"http://www.w3.org/2000/svg\" height=\"24px\"viewBox=\"0 0 24 24\"\n",
              "     width=\"24px\">\n",
              "    <g>\n",
              "        <path d=\"M19 3H5c-1.1 0-2 .9-2 2v14c0 1.1.9 2 2 2h14c1.1 0 2-.9 2-2V5c0-1.1-.9-2-2-2zM9 17H7v-7h2v7zm4 0h-2V7h2v10zm4 0h-2v-4h2v4z\"/>\n",
              "    </g>\n",
              "</svg>\n",
              "  </button>\n",
              "\n",
              "<style>\n",
              "  .colab-df-quickchart {\n",
              "      --bg-color: #E8F0FE;\n",
              "      --fill-color: #1967D2;\n",
              "      --hover-bg-color: #E2EBFA;\n",
              "      --hover-fill-color: #174EA6;\n",
              "      --disabled-fill-color: #AAA;\n",
              "      --disabled-bg-color: #DDD;\n",
              "  }\n",
              "\n",
              "  [theme=dark] .colab-df-quickchart {\n",
              "      --bg-color: #3B4455;\n",
              "      --fill-color: #D2E3FC;\n",
              "      --hover-bg-color: #434B5C;\n",
              "      --hover-fill-color: #FFFFFF;\n",
              "      --disabled-bg-color: #3B4455;\n",
              "      --disabled-fill-color: #666;\n",
              "  }\n",
              "\n",
              "  .colab-df-quickchart {\n",
              "    background-color: var(--bg-color);\n",
              "    border: none;\n",
              "    border-radius: 50%;\n",
              "    cursor: pointer;\n",
              "    display: none;\n",
              "    fill: var(--fill-color);\n",
              "    height: 32px;\n",
              "    padding: 0;\n",
              "    width: 32px;\n",
              "  }\n",
              "\n",
              "  .colab-df-quickchart:hover {\n",
              "    background-color: var(--hover-bg-color);\n",
              "    box-shadow: 0 1px 2px rgba(60, 64, 67, 0.3), 0 1px 3px 1px rgba(60, 64, 67, 0.15);\n",
              "    fill: var(--button-hover-fill-color);\n",
              "  }\n",
              "\n",
              "  .colab-df-quickchart-complete:disabled,\n",
              "  .colab-df-quickchart-complete:disabled:hover {\n",
              "    background-color: var(--disabled-bg-color);\n",
              "    fill: var(--disabled-fill-color);\n",
              "    box-shadow: none;\n",
              "  }\n",
              "\n",
              "  .colab-df-spinner {\n",
              "    border: 2px solid var(--fill-color);\n",
              "    border-color: transparent;\n",
              "    border-bottom-color: var(--fill-color);\n",
              "    animation:\n",
              "      spin 1s steps(1) infinite;\n",
              "  }\n",
              "\n",
              "  @keyframes spin {\n",
              "    0% {\n",
              "      border-color: transparent;\n",
              "      border-bottom-color: var(--fill-color);\n",
              "      border-left-color: var(--fill-color);\n",
              "    }\n",
              "    20% {\n",
              "      border-color: transparent;\n",
              "      border-left-color: var(--fill-color);\n",
              "      border-top-color: var(--fill-color);\n",
              "    }\n",
              "    30% {\n",
              "      border-color: transparent;\n",
              "      border-left-color: var(--fill-color);\n",
              "      border-top-color: var(--fill-color);\n",
              "      border-right-color: var(--fill-color);\n",
              "    }\n",
              "    40% {\n",
              "      border-color: transparent;\n",
              "      border-right-color: var(--fill-color);\n",
              "      border-top-color: var(--fill-color);\n",
              "    }\n",
              "    60% {\n",
              "      border-color: transparent;\n",
              "      border-right-color: var(--fill-color);\n",
              "    }\n",
              "    80% {\n",
              "      border-color: transparent;\n",
              "      border-right-color: var(--fill-color);\n",
              "      border-bottom-color: var(--fill-color);\n",
              "    }\n",
              "    90% {\n",
              "      border-color: transparent;\n",
              "      border-bottom-color: var(--fill-color);\n",
              "    }\n",
              "  }\n",
              "</style>\n",
              "\n",
              "  <script>\n",
              "    async function quickchart(key) {\n",
              "      const quickchartButtonEl =\n",
              "        document.querySelector('#' + key + ' button');\n",
              "      quickchartButtonEl.disabled = true;  // To prevent multiple clicks.\n",
              "      quickchartButtonEl.classList.add('colab-df-spinner');\n",
              "      try {\n",
              "        const charts = await google.colab.kernel.invokeFunction(\n",
              "            'suggestCharts', [key], {});\n",
              "      } catch (error) {\n",
              "        console.error('Error during call to suggestCharts:', error);\n",
              "      }\n",
              "      quickchartButtonEl.classList.remove('colab-df-spinner');\n",
              "      quickchartButtonEl.classList.add('colab-df-quickchart-complete');\n",
              "    }\n",
              "    (() => {\n",
              "      let quickchartButtonEl =\n",
              "        document.querySelector('#df-ce25cbd3-88b2-40f5-812d-4c9ff6bc0074 button');\n",
              "      quickchartButtonEl.style.display =\n",
              "        google.colab.kernel.accessAllowed ? 'block' : 'none';\n",
              "    })();\n",
              "  </script>\n",
              "</div>\n",
              "    </div>\n",
              "  </div>\n"
            ],
            "application/vnd.google.colaboratory.intrinsic+json": {
              "type": "dataframe"
            }
          },
          "metadata": {},
          "execution_count": 3
        }
      ],
      "source": [
        "df.tail(5)"
      ]
    },
    {
      "cell_type": "code",
      "execution_count": 4,
      "metadata": {
        "colab": {
          "base_uri": "https://localhost:8080/",
          "height": 0
        },
        "id": "W8zENNHI2wZH",
        "outputId": "b1b06766-9db0-43d6-d950-5d2fd97a1ac2"
      },
      "outputs": [
        {
          "output_type": "stream",
          "name": "stdout",
          "text": [
            "There are 3000000 rows and 32 columns from the flight dataset.\n"
          ]
        }
      ],
      "source": [
        "# Check dimension of dataset\n",
        "df.shape\n",
        "print(\"There are \"+ str(df.shape[0]) +\" rows and \"+ str(df.shape[1]) +\" columns from the flight dataset.\")"
      ]
    },
    {
      "cell_type": "code",
      "execution_count": 5,
      "metadata": {
        "colab": {
          "base_uri": "https://localhost:8080/",
          "height": 0
        },
        "id": "O3_5Qkh-3BF3",
        "outputId": "5d3b18b5-8404-4c16-a547-b70bb2841313"
      },
      "outputs": [
        {
          "output_type": "stream",
          "name": "stdout",
          "text": [
            "<class 'pandas.core.frame.DataFrame'>\n",
            "RangeIndex: 3000000 entries, 0 to 2999999\n",
            "Data columns (total 32 columns):\n",
            " #   Column                   Dtype  \n",
            "---  ------                   -----  \n",
            " 0   FL_DATE                  object \n",
            " 1   AIRLINE                  object \n",
            " 2   AIRLINE_DOT              object \n",
            " 3   AIRLINE_CODE             object \n",
            " 4   DOT_CODE                 int64  \n",
            " 5   FL_NUMBER                int64  \n",
            " 6   ORIGIN                   object \n",
            " 7   ORIGIN_CITY              object \n",
            " 8   DEST                     object \n",
            " 9   DEST_CITY                object \n",
            " 10  CRS_DEP_TIME             int64  \n",
            " 11  DEP_TIME                 float64\n",
            " 12  DEP_DELAY                float64\n",
            " 13  TAXI_OUT                 float64\n",
            " 14  WHEELS_OFF               float64\n",
            " 15  WHEELS_ON                float64\n",
            " 16  TAXI_IN                  float64\n",
            " 17  CRS_ARR_TIME             int64  \n",
            " 18  ARR_TIME                 float64\n",
            " 19  ARR_DELAY                float64\n",
            " 20  CANCELLED                float64\n",
            " 21  CANCELLATION_CODE        object \n",
            " 22  DIVERTED                 float64\n",
            " 23  CRS_ELAPSED_TIME         float64\n",
            " 24  ELAPSED_TIME             float64\n",
            " 25  AIR_TIME                 float64\n",
            " 26  DISTANCE                 float64\n",
            " 27  DELAY_DUE_CARRIER        float64\n",
            " 28  DELAY_DUE_WEATHER        float64\n",
            " 29  DELAY_DUE_NAS            float64\n",
            " 30  DELAY_DUE_SECURITY       float64\n",
            " 31  DELAY_DUE_LATE_AIRCRAFT  float64\n",
            "dtypes: float64(19), int64(4), object(9)\n",
            "memory usage: 732.4+ MB\n"
          ]
        }
      ],
      "source": [
        "df.info()"
      ]
    },
    {
      "cell_type": "markdown",
      "metadata": {
        "id": "JqC8x8Jk3S-3"
      },
      "source": [
        "Description of each column in dataset\n",
        "\n",
        "**FL_DATE**: The date of the flight.\n",
        "\n",
        "**AIRLINE**: The name of the airline operating the flight.\n",
        "\n",
        "**AIRLINE_DOT**: Department of Transportation (DOT) identifier for the airline.\n",
        "\n",
        "**AIRLINE_CODE**: IATA code for the airline.\n",
        "\n",
        "**DOT_CODE**: Department of Transportation (DOT) code for the airline.\n",
        "FL_NUMBER: Flight number.\n",
        "\n",
        "**ORIGIN**: The origin airport code.\n",
        "\n",
        "**ORIGIN_CITY**: The city of the origin airport.\n",
        "\n",
        "**DEST**: The destination airport code.\n",
        "\n",
        "**DEST_CITY**: The city of the destination airport.\n",
        "\n",
        "**CRS_DEP_TIME**: Scheduled departure time.\n",
        "\n",
        "**DEP_TIME**: Actual departure time.\n",
        "\n",
        "**DEP_DELAY**: Delay in departure time.\n",
        "\n",
        "**TAXI_OUT**: Time taken for taxi out.\n",
        "\n",
        "**WHEELS_OFF**: Time when the aircraft leaves the ground.\n",
        "\n",
        "**WHEELS_ON**: Time when the aircraft touches the ground.\n",
        "\n",
        "**TAXI_IN**: Time taken for taxi in.\n",
        "\n",
        "**CRS_ARR_TIME**: Scheduled arrival time.\n",
        "\n",
        "**ARR_TIME**: Actual arrival time.\n",
        "\n",
        "**ARR_DELAY**: Delay in arrival time.\n",
        "\n",
        "**CANCELLED**: Indicates if the flight was cancelled.\n",
        "\n",
        "**CANCELLATION_CODE**: Code for the reason of cancellation.\n",
        "\n",
        "**DIVERTED**: Indicates if the flight was diverted.\n",
        "\n",
        "**CRS_ELAPSED_TIME**: Scheduled elapsed time of the flight.\n",
        "\n",
        "**ELAPSED_TIME**: Actual elapsed time of the flight.\n",
        "\n",
        "**AIR_TIME**: Time spent in the air.\n",
        "\n",
        "**DISTANCE**: Distance traveled by the flight.\n",
        "\n",
        "**DELAY_DUE_CARRIER**: Delay attributed to the carrier.\n",
        "\n",
        "**DELAY_DUE_WEATHER**: Delay attributed to weather conditions.\n",
        "\n",
        "**DELAY_DUE_NAS**: Delay attributed to National Airspace System (NAS) issues.\n",
        "\n",
        "**DELAY_DUE_SECURITY**: Delay attributed to security reasons.\n",
        "\n",
        "**DELAY_DUE_LATE_AIRCRAFT**: Delay attributed to late arrival of the aircraft."
      ]
    },
    {
      "cell_type": "code",
      "execution_count": 6,
      "metadata": {
        "colab": {
          "base_uri": "https://localhost:8080/",
          "height": 0
        },
        "id": "SmrdEESw3YAA",
        "outputId": "c03e1a91-a6d4-42f9-ecf8-693db2bfbf46"
      },
      "outputs": [
        {
          "output_type": "stream",
          "name": "stdout",
          "text": [
            "0   2019-01-09\n",
            "1   2022-11-19\n",
            "2   2022-07-22\n",
            "3   2023-03-06\n",
            "4   2020-02-23\n",
            "Name: FL_DATE, dtype: datetime64[ns]\n"
          ]
        }
      ],
      "source": [
        "df['FL_DATE'] =  pd.to_datetime(df['FL_DATE'], format='%Y-%m-%d')\n",
        "print(df['FL_DATE'].head())"
      ]
    },
    {
      "cell_type": "code",
      "execution_count": 7,
      "metadata": {
        "colab": {
          "base_uri": "https://localhost:8080/",
          "height": 0
        },
        "id": "92W5KzdY5CmO",
        "outputId": "853ef5f5-2cd8-4349-fa60-05e95fbeda03"
      },
      "outputs": [
        {
          "output_type": "stream",
          "name": "stdout",
          "text": [
            "Count of cancelled flights: 79140\n"
          ]
        }
      ],
      "source": [
        "# Count the number of cancelled flights\n",
        "cancelled_count = df[df['CANCELLED'] == 1].shape[0]\n",
        "\n",
        "# Print the count of cancelled flights\n",
        "print(\"Count of cancelled flights:\", cancelled_count)"
      ]
    },
    {
      "cell_type": "code",
      "execution_count": 8,
      "metadata": {
        "colab": {
          "base_uri": "https://localhost:8080/",
          "height": 0
        },
        "id": "usbTLgFk56kV",
        "outputId": "9ddd3e2d-3f31-4a45-9d87-2202caf1696a"
      },
      "outputs": [
        {
          "output_type": "stream",
          "name": "stdout",
          "text": [
            "Count of cancelled flights: 0\n"
          ]
        }
      ],
      "source": [
        "df = df.drop(df[df.CANCELLED == True].index)\n",
        "# Count the number of cancelled flights\n",
        "cancelled_count = df[df['CANCELLED'] == 1].shape[0]\n",
        "\n",
        "# Print the count of cancelled flights\n",
        "print(\"Count of cancelled flights:\", cancelled_count)"
      ]
    },
    {
      "cell_type": "code",
      "execution_count": 9,
      "metadata": {
        "colab": {
          "base_uri": "https://localhost:8080/",
          "height": 0
        },
        "id": "3gshfsIU6EU2",
        "outputId": "ba49ea32-8097-461a-ec4a-a672741b67dc"
      },
      "outputs": [
        {
          "output_type": "stream",
          "name": "stdout",
          "text": [
            "Count of Diverted flights: 7056\n"
          ]
        }
      ],
      "source": [
        "# Count the number of DIVERTED flights\n",
        "diverted_count = df[df['DIVERTED'] == 1].shape[0]\n",
        "\n",
        "# Print the count of DIVERTED flights\n",
        "print(\"Count of Diverted flights:\", diverted_count)"
      ]
    },
    {
      "cell_type": "code",
      "execution_count": 10,
      "metadata": {
        "colab": {
          "base_uri": "https://localhost:8080/",
          "height": 0
        },
        "id": "DnrdGT8Y6OEW",
        "outputId": "85c602ad-757a-4220-a07a-cb05e11d9815"
      },
      "outputs": [
        {
          "output_type": "stream",
          "name": "stdout",
          "text": [
            "Count of Diverted flights: 0\n"
          ]
        }
      ],
      "source": [
        "df = df.drop(df[df.DIVERTED == True].index)\n",
        "# Count the number of DIVERTED flights\n",
        "diverted_count = df[df['DIVERTED'] == 1].shape[0]\n",
        "\n",
        "# Print the count of DIVERTED flights\n",
        "print(\"Count of Diverted flights:\", diverted_count)"
      ]
    },
    {
      "cell_type": "code",
      "execution_count": 11,
      "metadata": {
        "colab": {
          "base_uri": "https://localhost:8080/",
          "height": 0
        },
        "id": "fm3tzEW479sG",
        "outputId": "f9cc57cf-9b9e-4bda-8c03-bfa9c99f921c"
      },
      "outputs": [
        {
          "output_type": "execute_result",
          "data": {
            "text/plain": [
              "CANCELLATION_CODE          2913804\n",
              "DELAY_DUE_LATE_AIRCRAFT    2379941\n",
              "DELAY_DUE_SECURITY         2379941\n",
              "DELAY_DUE_NAS              2379941\n",
              "DELAY_DUE_WEATHER          2379941\n",
              "DELAY_DUE_CARRIER          2379941\n",
              "WHEELS_ON                        2\n",
              "AIR_TIME                         2\n",
              "ELAPSED_TIME                     2\n",
              "ARR_DELAY                        2\n",
              "ARR_TIME                         2\n",
              "TAXI_IN                          2\n",
              "DEP_DELAY                        0\n",
              "TAXI_OUT                         0\n",
              "AIRLINE_DOT                      0\n",
              "AIRLINE_CODE                     0\n",
              "DOT_CODE                         0\n",
              "FL_NUMBER                        0\n",
              "DISTANCE                         0\n",
              "ORIGIN                           0\n",
              "ORIGIN_CITY                      0\n",
              "CRS_ELAPSED_TIME                 0\n",
              "DIVERTED                         0\n",
              "DEST                             0\n",
              "CANCELLED                        0\n",
              "DEST_CITY                        0\n",
              "CRS_DEP_TIME                     0\n",
              "CRS_ARR_TIME                     0\n",
              "AIRLINE                          0\n",
              "DEP_TIME                         0\n",
              "WHEELS_OFF                       0\n",
              "FL_DATE                          0\n",
              "dtype: int64"
            ]
          },
          "metadata": {},
          "execution_count": 11
        }
      ],
      "source": [
        "df.isna().sum().sort_values(ascending=False)"
      ]
    },
    {
      "cell_type": "code",
      "execution_count": 12,
      "metadata": {
        "id": "xaOHPYrt-qMl"
      },
      "outputs": [],
      "source": [
        "# Drop columns with high missing values\n",
        "columns_to_drop = ['CANCELLATION_CODE', 'DELAY_DUE_CARRIER', 'DELAY_DUE_WEATHER',\n",
        "                   'DELAY_DUE_NAS', 'DELAY_DUE_SECURITY', 'DELAY_DUE_LATE_AIRCRAFT']\n",
        "df = df.drop(columns=columns_to_drop)"
      ]
    },
    {
      "cell_type": "code",
      "execution_count": 13,
      "metadata": {
        "id": "ndWUbcDf_CYL"
      },
      "outputs": [],
      "source": [
        "# Drop rows with missing values for columns with low missing values\n",
        "df = df.dropna(subset=['WHEELS_ON', 'TAXI_IN', 'ARR_TIME', 'ARR_DELAY', 'ELAPSED_TIME', 'AIR_TIME'])"
      ]
    },
    {
      "cell_type": "code",
      "execution_count": 14,
      "metadata": {
        "colab": {
          "base_uri": "https://localhost:8080/",
          "height": 0
        },
        "id": "gVaWI8Ej_hvE",
        "outputId": "9d152a8b-838a-4062-fbf0-4b82246ea46a"
      },
      "outputs": [
        {
          "output_type": "execute_result",
          "data": {
            "text/plain": [
              "FL_DATE             0\n",
              "AIRLINE             0\n",
              "AIRLINE_DOT         0\n",
              "AIRLINE_CODE        0\n",
              "DOT_CODE            0\n",
              "FL_NUMBER           0\n",
              "ORIGIN              0\n",
              "ORIGIN_CITY         0\n",
              "DEST                0\n",
              "DEST_CITY           0\n",
              "CRS_DEP_TIME        0\n",
              "DEP_TIME            0\n",
              "DEP_DELAY           0\n",
              "TAXI_OUT            0\n",
              "WHEELS_OFF          0\n",
              "WHEELS_ON           0\n",
              "TAXI_IN             0\n",
              "CRS_ARR_TIME        0\n",
              "ARR_TIME            0\n",
              "ARR_DELAY           0\n",
              "CANCELLED           0\n",
              "DIVERTED            0\n",
              "CRS_ELAPSED_TIME    0\n",
              "ELAPSED_TIME        0\n",
              "AIR_TIME            0\n",
              "DISTANCE            0\n",
              "dtype: int64"
            ]
          },
          "metadata": {},
          "execution_count": 14
        }
      ],
      "source": [
        "df.isna().sum()"
      ]
    },
    {
      "cell_type": "markdown",
      "metadata": {
        "id": "flZcvnty_5iF"
      },
      "source": [
        "EDA"
      ]
    },
    {
      "cell_type": "code",
      "execution_count": 15,
      "metadata": {
        "id": "2VNU6TiD_7PD"
      },
      "outputs": [],
      "source": [
        "status = []\n",
        "\n",
        "for value in df['ARR_DELAY']:\n",
        "    if value <= 10:\n",
        "        status.append(0)\n",
        "    else:\n",
        "        status.append(1)\n",
        "df['FLIGHT_STATUS'] = status"
      ]
    },
    {
      "cell_type": "code",
      "execution_count": 16,
      "metadata": {
        "id": "DVmJX4htHx0h"
      },
      "outputs": [],
      "source": [
        "df_category = df.select_dtypes(include=['object','category'])\n",
        "df_numerical = df.select_dtypes(exclude=['object'])"
      ]
    },
    {
      "cell_type": "code",
      "execution_count": 17,
      "metadata": {
        "colab": {
          "base_uri": "https://localhost:8080/",
          "height": 491
        },
        "id": "5osz7F4kHjnJ",
        "outputId": "19253b45-413e-47ef-aa21-052d40767a6f"
      },
      "outputs": [
        {
          "output_type": "execute_result",
          "data": {
            "text/plain": [
              "[Text(0.5, 0, 'Number of counts')]"
            ]
          },
          "metadata": {},
          "execution_count": 17
        },
        {
          "output_type": "display_data",
          "data": {
            "text/plain": [
              "<Figure size 640x480 with 1 Axes>"
            ],
            "image/png": "[encoded data removed]"
          },
          "metadata": {}
        }
      ],
      "source": [
        "# Output Barplot showing the occurence of flight outcome\n",
        "palette_colors = {'0': 'blue', '1': 'orange'}\n",
        "sb.set_context(\"notebook\")\n",
        "g=sb.countplot(x=\"FLIGHT_STATUS\",data=df,palette=palette_colors)\n",
        "g.set(xlabel=\"Number of counts\")"
      ]
    },
    {
      "cell_type": "code",
      "execution_count": 18,
      "metadata": {
        "colab": {
          "base_uri": "https://localhost:8080/",
          "height": 0
        },
        "id": "1aP85IqCJuT1",
        "outputId": "438c721f-880c-47b5-b13d-123f0f1a99d6"
      },
      "outputs": [
        {
          "output_type": "execute_result",
          "data": {
            "text/plain": [
              "FLIGHT_STATUS\n",
              "0    2293863\n",
              "1     619939\n",
              "Name: count, dtype: int64"
            ]
          },
          "metadata": {},
          "execution_count": 18
        }
      ],
      "source": [
        "df['FLIGHT_STATUS'].value_counts()"
      ]
    },
    {
      "cell_type": "code",
      "execution_count": 19,
      "metadata": {
        "id": "wTS_6h9vRZ2h"
      },
      "outputs": [],
      "source": [
        "from imblearn.over_sampling import SMOTE\n",
        "from sklearn.model_selection import train_test_split"
      ]
    },
    {
      "cell_type": "code",
      "execution_count": 20,
      "metadata": {
        "colab": {
          "base_uri": "https://localhost:8080/",
          "height": 0
        },
        "id": "szPxHJ5ESU9_",
        "outputId": "0a08bf6d-fb4d-40c0-9cc0-7499b0b13eb8"
      },
      "outputs": [
        {
          "output_type": "stream",
          "name": "stdout",
          "text": [
            "FL_DATE             datetime64[ns]\n",
            "AIRLINE                     object\n",
            "AIRLINE_DOT                 object\n",
            "AIRLINE_CODE                object\n",
            "DOT_CODE                     int64\n",
            "FL_NUMBER                    int64\n",
            "ORIGIN                      object\n",
            "ORIGIN_CITY                 object\n",
            "DEST                        object\n",
            "DEST_CITY                   object\n",
            "CRS_DEP_TIME                 int64\n",
            "DEP_TIME                   float64\n",
            "DEP_DELAY                  float64\n",
            "TAXI_OUT                   float64\n",
            "WHEELS_OFF                 float64\n",
            "WHEELS_ON                  float64\n",
            "TAXI_IN                    float64\n",
            "CRS_ARR_TIME                 int64\n",
            "ARR_TIME                   float64\n",
            "ARR_DELAY                  float64\n",
            "CANCELLED                  float64\n",
            "DIVERTED                   float64\n",
            "CRS_ELAPSED_TIME           float64\n",
            "ELAPSED_TIME               float64\n",
            "AIR_TIME                   float64\n",
            "DISTANCE                   float64\n",
            "FLIGHT_STATUS                int64\n",
            "dtype: object\n"
          ]
        }
      ],
      "source": [
        "print(df.dtypes)"
      ]
    },
    {
      "cell_type": "code",
      "execution_count": 21,
      "metadata": {
        "colab": {
          "base_uri": "https://localhost:8080/",
          "height": 491
        },
        "id": "RcE98S_cYRke",
        "outputId": "18e2ee85-c2c3-40ee-8035-174294ebed85"
      },
      "outputs": [
        {
          "output_type": "execute_result",
          "data": {
            "text/plain": [
              "[Text(0.5, 0, 'Number of counts')]"
            ]
          },
          "metadata": {},
          "execution_count": 21
        },
        {
          "output_type": "display_data",
          "data": {
            "text/plain": [
              "<Figure size 640x480 with 1 Axes>"
            ],
            "image/png": "[encoded data removed]"
          },
          "metadata": {}
        }
      ],
      "source": [
        "from imblearn.over_sampling import RandomOverSampler\n",
        "from sklearn.model_selection import train_test_split\n",
        "\n",
        "# Separate features and target variable\n",
        "X = df.drop(['FL_DATE', 'FLIGHT_STATUS'], axis=1)  # Dropping FL_DATE assuming it's not used for modeling\n",
        "y = df['FLIGHT_STATUS']\n",
        "\n",
        "# Split data into train and test sets\n",
        "X_train, X_test, y_train, y_test = train_test_split(X, y, test_size=0.2, random_state=42)\n",
        "\n",
        "# Initialize RandomOverSampler\n",
        "ros = RandomOverSampler(random_state=42)\n",
        "\n",
        "# Resample the training dataset\n",
        "X_train_resampled, y_train_resampled = ros.fit_resample(X_train, y_train)\n",
        "\n",
        "# Concatenate resampled features and target variable\n",
        "df_resampled = pd.concat([X_train_resampled, y_train_resampled], axis=1)\n",
        "\n",
        "# Plot the balanced data\n",
        "g = sb.countplot(x=\"FLIGHT_STATUS\", data=df_resampled, palette=palette_colors)\n",
        "g.set(xlabel=\"Number of counts\")\n"
      ]
    },
    {
      "cell_type": "code",
      "execution_count": 22,
      "metadata": {
        "colab": {
          "base_uri": "https://localhost:8080/",
          "height": 0
        },
        "id": "7vD8_ZHuZW6I",
        "outputId": "f750122d-cb5a-4950-8423-9ccaad3db9e5"
      },
      "outputs": [
        {
          "output_type": "execute_result",
          "data": {
            "text/plain": [
              "FLIGHT_STATUS\n",
              "0    1834838\n",
              "1    1834838\n",
              "Name: count, dtype: int64"
            ]
          },
          "metadata": {},
          "execution_count": 22
        }
      ],
      "source": [
        "df_resampled['FLIGHT_STATUS'].value_counts()"
      ]
    },
    {
      "cell_type": "code",
      "execution_count": 23,
      "metadata": {
        "colab": {
          "base_uri": "https://localhost:8080/",
          "height": 475
        },
        "id": "yZP03QuRaYSU",
        "outputId": "a24930ce-fa65-4f99-eabd-8dd2366410b4"
      },
      "outputs": [
        {
          "output_type": "execute_result",
          "data": {
            "text/plain": [
              "[Text(0.5, 0, 'Number of counts')]"
            ]
          },
          "metadata": {},
          "execution_count": 23
        },
        {
          "output_type": "display_data",
          "data": {
            "text/plain": [
              "<Figure size 640x480 with 1 Axes>"
            ],
            "image/png": "[encoded data removed]"
          },
          "metadata": {}
        }
      ],
      "source": [
        "import seaborn as sb\n",
        "\n",
        "# Set the context to notebook\n",
        "sb.set_context(\"notebook\")\n",
        "\n",
        "# Define a custom palette for colors\n",
        "custom_palette = sb.color_palette(\"hls\", n_colors=len(df_resampled['AIRLINE'].unique()))\n",
        "\n",
        "# Create the countplot with the specified palette\n",
        "g = sb.countplot(y=\"AIRLINE\", data=df_category, palette=custom_palette)\n",
        "g.set(xlabel=\"Number of counts\")"
      ]
    },
    {
      "cell_type": "code",
      "execution_count": 24,
      "metadata": {
        "colab": {
          "base_uri": "https://localhost:8080/",
          "height": 858
        },
        "id": "rI37x8Ylag-o",
        "outputId": "920e9d4f-791d-4962-c84a-a8123906bbac"
      },
      "outputs": [
        {
          "output_type": "display_data",
          "data": {
            "text/plain": [
              "<Figure size 800x1000 with 1 Axes>"
            ],
            "image/png": "[encoded data removed]"
          },
          "metadata": {}
        }
      ],
      "source": [
        "import seaborn as sb\n",
        "import matplotlib.pyplot as plt\n",
        "\n",
        "# Set the context to notebook\n",
        "sb.set_context(\"notebook\")\n",
        "\n",
        "# Get the top 20 destinations with the highest number of counts\n",
        "top_destinations = df_resampled['DEST'].value_counts().nlargest(20).index\n",
        "\n",
        "# Filter the DataFrame to include only the top 20 destinations\n",
        "df_top_destinations = df_resampled[df_resampled['DEST'].isin(top_destinations)]\n",
        "\n",
        "# Calculate the number of unique destinations in the top 20\n",
        "num_destinations = len(top_destinations)\n",
        "\n",
        "# Calculate the figure size based on the number of unique destinations\n",
        "fig_height = max(0.5 * num_destinations, 6)  # Adjust the multiplier as needed\n",
        "plt.figure(figsize=(8, fig_height))  # Adjust the width as needed\n",
        "\n",
        "# Create the countplot for the top 20 destinations\n",
        "g = sb.countplot(y=\"DEST\", data=df_top_destinations, order=top_destinations)\n",
        "\n",
        "# Set labels\n",
        "g.set(xlabel=\"Number of counts\", ylabel=\"Destination\")\n",
        "\n",
        "# Show the plot\n",
        "plt.show()\n"
      ]
    },
    {
      "cell_type": "code",
      "execution_count": 65,
      "metadata": {
        "colab": {
          "base_uri": "https://localhost:8080/",
          "height": 475
        },
        "id": "qWn2a95Kdjab",
        "outputId": "c8af02c5-7bda-4862-9d95-5fbc5e9ba0c3"
      },
      "outputs": [
        {
          "output_type": "execute_result",
          "data": {
            "text/plain": [
              "<Axes: xlabel='ARR_DELAY', ylabel='DEP_DELAY'>"
            ]
          },
          "metadata": {},
          "execution_count": 65
        },
        {
          "output_type": "display_data",
          "data": {
            "text/plain": [
              "<Figure size 640x480 with 1 Axes>"
            ],
            "image/png": "[encoded data removed]"
          },
          "metadata": {}
        }
      ],
      "source": [
        "#Compare betwEen scheduled and actual arrival time\n",
        "#sb.lineplot(data=df_resampled, x=\"ARR_DELAY\", y=\"DEP_DELAY\", hue=\"FLIGHT_STATUS\")"
      ]
    },
    {
      "cell_type": "code",
      "execution_count": 25,
      "metadata": {
        "colab": {
          "base_uri": "https://localhost:8080/",
          "height": 630
        },
        "id": "RcPt4tq4ek4-",
        "outputId": "05595a17-455c-47d9-b2b2-f35305793c72"
      },
      "outputs": [
        {
          "output_type": "display_data",
          "data": {
            "text/plain": [
              "<Figure size 640x480 with 1 Axes>"
            ],
            "image/png": "[encoded data removed]"
          },
          "metadata": {}
        }
      ],
      "source": [
        "import seaborn as sb\n",
        "import matplotlib.pyplot as plt\n",
        "\n",
        "# Set the style to whitegrid\n",
        "sb.set_style('whitegrid')\n",
        "\n",
        "# Define a list of colors containing dark blue and red\n",
        "colors = [\"blue\", \"orange\"]\n",
        "\n",
        "# Create the countplot with the specified colors\n",
        "ax = sb.countplot(x='AIRLINE', hue='FLIGHT_STATUS', data=df_resampled, palette=colors)\n",
        "\n",
        "# Write the short form for each airline and rotate by 90 degrees\n",
        "ax.set_xticklabels(ax.get_xticklabels(), rotation=90, fontsize=8)\n",
        "\n",
        "# Show the plot\n",
        "plt.show()\n"
      ]
    },
    {
      "cell_type": "code",
      "execution_count": 26,
      "metadata": {
        "colab": {
          "base_uri": "https://localhost:8080/",
          "height": 840
        },
        "id": "oZ3e_XFcn_MN",
        "outputId": "0f557281-f20d-4557-ec91-5c01cfbb59c6"
      },
      "outputs": [
        {
          "output_type": "display_data",
          "data": {
            "text/plain": [
              "<Figure size 1000x800 with 2 Axes>"
            ],
            "image/png": "[encoded data removed]"
          },
          "metadata": {}
        }
      ],
      "source": [
        "import seaborn as sns\n",
        "import matplotlib.pyplot as plt\n",
        "\n",
        "# Select only numeric columns excluding \"CANCELLED\" and \"DIVERTED\"\n",
        "numeric_columns = df_resampled.select_dtypes(include=['number']).drop(columns=[\"CANCELLED\", \"DIVERTED\"])\n",
        "\n",
        "# Compute the correlation matrix\n",
        "corr = numeric_columns.corr()\n",
        "\n",
        "# Set up the matplotlib figure\n",
        "plt.figure(figsize=(10, 8))\n",
        "\n",
        "# Draw the heatmap without the mask and adjust aspect ratio\n",
        "sns.heatmap(corr, cmap='coolwarm', annot=False, fmt=\".2f\", linewidths=0.5, square=True)\n",
        "\n",
        "plt.title('Correlation Matrix')\n",
        "plt.show()\n"
      ]
    },
    {
      "cell_type": "code",
      "execution_count": 27,
      "metadata": {
        "colab": {
          "base_uri": "https://localhost:8080/",
          "height": 676
        },
        "id": "oXhEYlAWsBEY",
        "outputId": "ddd1b756-1640-4eed-f282-b8fd206df714"
      },
      "outputs": [
        {
          "output_type": "execute_result",
          "data": {
            "text/plain": [
              "            Column 1          Column 2  Correlation\n",
              "0       CRS_DEP_TIME          DEP_TIME     0.904805\n",
              "1           DEP_TIME      CRS_DEP_TIME     0.904805\n",
              "2           DEP_TIME        WHEELS_OFF     0.958448\n",
              "3          DEP_DELAY         ARR_DELAY     0.973513\n",
              "4         WHEELS_OFF          DEP_TIME     0.958448\n",
              "5          WHEELS_ON          ARR_TIME     0.950457\n",
              "6           ARR_TIME         WHEELS_ON     0.950457\n",
              "7          ARR_DELAY         DEP_DELAY     0.973513\n",
              "8   CRS_ELAPSED_TIME      ELAPSED_TIME     0.974107\n",
              "9   CRS_ELAPSED_TIME          AIR_TIME     0.987286\n",
              "10  CRS_ELAPSED_TIME          DISTANCE     0.982480\n",
              "11      ELAPSED_TIME  CRS_ELAPSED_TIME     0.974107\n",
              "12      ELAPSED_TIME          AIR_TIME     0.981238\n",
              "13      ELAPSED_TIME          DISTANCE     0.959580\n",
              "14          AIR_TIME  CRS_ELAPSED_TIME     0.987286\n",
              "15          AIR_TIME      ELAPSED_TIME     0.981238\n",
              "16          AIR_TIME          DISTANCE     0.981414\n",
              "17          DISTANCE  CRS_ELAPSED_TIME     0.982480\n",
              "18          DISTANCE      ELAPSED_TIME     0.959580\n",
              "19          DISTANCE          AIR_TIME     0.981414"
            ],
            "text/html": [
              "\n",
              "  <div id=\"df-e8fbbb08-cd1c-4479-b943-8554c8ea36a0\" class=\"colab-df-container\">\n",
              "    <div>\n",
              "<style scoped>\n",
              "    .dataframe tbody tr th:only-of-type {\n",
              "        vertical-align: middle;\n",
              "    }\n",
              "\n",
              "    .dataframe tbody tr th {\n",
              "        vertical-align: top;\n",
              "    }\n",
              "\n",
              "    .dataframe thead th {\n",
              "        text-align: right;\n",
              "    }\n",
              "</style>\n",
              "<table border=\"1\" class=\"dataframe\">\n",
              "  <thead>\n",
              "    <tr style=\"text-align: right;\">\n",
              "      <th></th>\n",
              "      <th>Column 1</th>\n",
              "      <th>Column 2</th>\n",
              "      <th>Correlation</th>\n",
              "    </tr>\n",
              "  </thead>\n",
              "  <tbody>\n",
              "    <tr>\n",
              "      <th>0</th>\n",
              "      <td>CRS_DEP_TIME</td>\n",
              "      <td>DEP_TIME</td>\n",
              "      <td>0.904805</td>\n",
              "    </tr>\n",
              "    <tr>\n",
              "      <th>1</th>\n",
              "      <td>DEP_TIME</td>\n",
              "      <td>CRS_DEP_TIME</td>\n",
              "      <td>0.904805</td>\n",
              "    </tr>\n",
              "    <tr>\n",
              "      <th>2</th>\n",
              "      <td>DEP_TIME</td>\n",
              "      <td>WHEELS_OFF</td>\n",
              "      <td>0.958448</td>\n",
              "    </tr>\n",
              "    <tr>\n",
              "      <th>3</th>\n",
              "      <td>DEP_DELAY</td>\n",
              "      <td>ARR_DELAY</td>\n",
              "      <td>0.973513</td>\n",
              "    </tr>\n",
              "    <tr>\n",
              "      <th>4</th>\n",
              "      <td>WHEELS_OFF</td>\n",
              "      <td>DEP_TIME</td>\n",
              "      <td>0.958448</td>\n",
              "    </tr>\n",
              "    <tr>\n",
              "      <th>5</th>\n",
              "      <td>WHEELS_ON</td>\n",
              "      <td>ARR_TIME</td>\n",
              "      <td>0.950457</td>\n",
              "    </tr>\n",
              "    <tr>\n",
              "      <th>6</th>\n",
              "      <td>ARR_TIME</td>\n",
              "      <td>WHEELS_ON</td>\n",
              "      <td>0.950457</td>\n",
              "    </tr>\n",
              "    <tr>\n",
              "      <th>7</th>\n",
              "      <td>ARR_DELAY</td>\n",
              "      <td>DEP_DELAY</td>\n",
              "      <td>0.973513</td>\n",
              "    </tr>\n",
              "    <tr>\n",
              "      <th>8</th>\n",
              "      <td>CRS_ELAPSED_TIME</td>\n",
              "      <td>ELAPSED_TIME</td>\n",
              "      <td>0.974107</td>\n",
              "    </tr>\n",
              "    <tr>\n",
              "      <th>9</th>\n",
              "      <td>CRS_ELAPSED_TIME</td>\n",
              "      <td>AIR_TIME</td>\n",
              "      <td>0.987286</td>\n",
              "    </tr>\n",
              "    <tr>\n",
              "      <th>10</th>\n",
              "      <td>CRS_ELAPSED_TIME</td>\n",
              "      <td>DISTANCE</td>\n",
              "      <td>0.982480</td>\n",
              "    </tr>\n",
              "    <tr>\n",
              "      <th>11</th>\n",
              "      <td>ELAPSED_TIME</td>\n",
              "      <td>CRS_ELAPSED_TIME</td>\n",
              "      <td>0.974107</td>\n",
              "    </tr>\n",
              "    <tr>\n",
              "      <th>12</th>\n",
              "      <td>ELAPSED_TIME</td>\n",
              "      <td>AIR_TIME</td>\n",
              "      <td>0.981238</td>\n",
              "    </tr>\n",
              "    <tr>\n",
              "      <th>13</th>\n",
              "      <td>ELAPSED_TIME</td>\n",
              "      <td>DISTANCE</td>\n",
              "      <td>0.959580</td>\n",
              "    </tr>\n",
              "    <tr>\n",
              "      <th>14</th>\n",
              "      <td>AIR_TIME</td>\n",
              "      <td>CRS_ELAPSED_TIME</td>\n",
              "      <td>0.987286</td>\n",
              "    </tr>\n",
              "    <tr>\n",
              "      <th>15</th>\n",
              "      <td>AIR_TIME</td>\n",
              "      <td>ELAPSED_TIME</td>\n",
              "      <td>0.981238</td>\n",
              "    </tr>\n",
              "    <tr>\n",
              "      <th>16</th>\n",
              "      <td>AIR_TIME</td>\n",
              "      <td>DISTANCE</td>\n",
              "      <td>0.981414</td>\n",
              "    </tr>\n",
              "    <tr>\n",
              "      <th>17</th>\n",
              "      <td>DISTANCE</td>\n",
              "      <td>CRS_ELAPSED_TIME</td>\n",
              "      <td>0.982480</td>\n",
              "    </tr>\n",
              "    <tr>\n",
              "      <th>18</th>\n",
              "      <td>DISTANCE</td>\n",
              "      <td>ELAPSED_TIME</td>\n",
              "      <td>0.959580</td>\n",
              "    </tr>\n",
              "    <tr>\n",
              "      <th>19</th>\n",
              "      <td>DISTANCE</td>\n",
              "      <td>AIR_TIME</td>\n",
              "      <td>0.981414</td>\n",
              "    </tr>\n",
              "  </tbody>\n",
              "</table>\n",
              "</div>\n",
              "    <div class=\"colab-df-buttons\">\n",
              "\n",
              "  <div class=\"colab-df-container\">\n",
              "    <button class=\"colab-df-convert\" onclick=\"convertToInteractive('df-e8fbbb08-cd1c-4479-b943-8554c8ea36a0')\"\n",
              "            title=\"Convert this dataframe to an interactive table.\"\n",
              "            style=\"display:none;\">\n",
              "\n",
              "  <svg xmlns=\"http://www.w3.org/2000/svg\" height=\"24px\" viewBox=\"0 -960 960 960\">\n",
              "    <path d=\"M120-120v-720h720v720H120Zm60-500h600v-160H180v160Zm220 220h160v-160H400v160Zm0 220h160v-160H400v160ZM180-400h160v-160H180v160Zm440 0h160v-160H620v160ZM180-180h160v-160H180v160Zm440 0h160v-160H620v160Z\"/>\n",
              "  </svg>\n",
              "    </button>\n",
              "\n",
              "  <style>\n",
              "    .colab-df-container {\n",
              "      display:flex;\n",
              "      gap: 12px;\n",
              "    }\n",
              "\n",
              "    .colab-df-convert {\n",
              "      background-color: #E8F0FE;\n",
              "      border: none;\n",
              "      border-radius: 50%;\n",
              "      cursor: pointer;\n",
              "      display: none;\n",
              "      fill: #1967D2;\n",
              "      height: 32px;\n",
              "      padding: 0 0 0 0;\n",
              "      width: 32px;\n",
              "    }\n",
              "\n",
              "    .colab-df-convert:hover {\n",
              "      background-color: #E2EBFA;\n",
              "      box-shadow: 0px 1px 2px rgba(60, 64, 67, 0.3), 0px 1px 3px 1px rgba(60, 64, 67, 0.15);\n",
              "      fill: #174EA6;\n",
              "    }\n",
              "\n",
              "    .colab-df-buttons div {\n",
              "      margin-bottom: 4px;\n",
              "    }\n",
              "\n",
              "    [theme=dark] .colab-df-convert {\n",
              "      background-color: #3B4455;\n",
              "      fill: #D2E3FC;\n",
              "    }\n",
              "\n",
              "    [theme=dark] .colab-df-convert:hover {\n",
              "      background-color: #434B5C;\n",
              "      box-shadow: 0px 1px 3px 1px rgba(0, 0, 0, 0.15);\n",
              "      filter: drop-shadow(0px 1px 2px rgba(0, 0, 0, 0.3));\n",
              "      fill: #FFFFFF;\n",
              "    }\n",
              "  </style>\n",
              "\n",
              "    <script>\n",
              "      const buttonEl =\n",
              "        document.querySelector('#df-e8fbbb08-cd1c-4479-b943-8554c8ea36a0 button.colab-df-convert');\n",
              "      buttonEl.style.display =\n",
              "        google.colab.kernel.accessAllowed ? 'block' : 'none';\n",
              "\n",
              "      async function convertToInteractive(key) {\n",
              "        const element = document.querySelector('#df-e8fbbb08-cd1c-4479-b943-8554c8ea36a0');\n",
              "        const dataTable =\n",
              "          await google.colab.kernel.invokeFunction('convertToInteractive',\n",
              "                                                    [key], {});\n",
              "        if (!dataTable) return;\n",
              "\n",
              "        const docLinkHtml = 'Like what you see? Visit the ' +\n",
              "          '<a target=\"_blank\" href=https://colab.research.google.com/notebooks/data_table.ipynb>data table notebook</a>'\n",
              "          + ' to learn more about interactive tables.';\n",
              "        element.innerHTML = '';\n",
              "        dataTable['output_type'] = 'display_data';\n",
              "        await google.colab.output.renderOutput(dataTable, element);\n",
              "        const docLink = document.createElement('div');\n",
              "        docLink.innerHTML = docLinkHtml;\n",
              "        element.appendChild(docLink);\n",
              "      }\n",
              "    </script>\n",
              "  </div>\n",
              "\n",
              "\n",
              "<div id=\"df-ace6ea6e-444f-4b4a-a926-2f56bdcdd903\">\n",
              "  <button class=\"colab-df-quickchart\" onclick=\"quickchart('df-ace6ea6e-444f-4b4a-a926-2f56bdcdd903')\"\n",
              "            title=\"Suggest charts\"\n",
              "            style=\"display:none;\">\n",
              "\n",
              "<svg xmlns=\"http://www.w3.org/2000/svg\" height=\"24px\"viewBox=\"0 0 24 24\"\n",
              "     width=\"24px\">\n",
              "    <g>\n",
              "        <path d=\"M19 3H5c-1.1 0-2 .9-2 2v14c0 1.1.9 2 2 2h14c1.1 0 2-.9 2-2V5c0-1.1-.9-2-2-2zM9 17H7v-7h2v7zm4 0h-2V7h2v10zm4 0h-2v-4h2v4z\"/>\n",
              "    </g>\n",
              "</svg>\n",
              "  </button>\n",
              "\n",
              "<style>\n",
              "  .colab-df-quickchart {\n",
              "      --bg-color: #E8F0FE;\n",
              "      --fill-color: #1967D2;\n",
              "      --hover-bg-color: #E2EBFA;\n",
              "      --hover-fill-color: #174EA6;\n",
              "      --disabled-fill-color: #AAA;\n",
              "      --disabled-bg-color: #DDD;\n",
              "  }\n",
              "\n",
              "  [theme=dark] .colab-df-quickchart {\n",
              "      --bg-color: #3B4455;\n",
              "      --fill-color: #D2E3FC;\n",
              "      --hover-bg-color: #434B5C;\n",
              "      --hover-fill-color: #FFFFFF;\n",
              "      --disabled-bg-color: #3B4455;\n",
              "      --disabled-fill-color: #666;\n",
              "  }\n",
              "\n",
              "  .colab-df-quickchart {\n",
              "    background-color: var(--bg-color);\n",
              "    border: none;\n",
              "    border-radius: 50%;\n",
              "    cursor: pointer;\n",
              "    display: none;\n",
              "    fill: var(--fill-color);\n",
              "    height: 32px;\n",
              "    padding: 0;\n",
              "    width: 32px;\n",
              "  }\n",
              "\n",
              "  .colab-df-quickchart:hover {\n",
              "    background-color: var(--hover-bg-color);\n",
              "    box-shadow: 0 1px 2px rgba(60, 64, 67, 0.3), 0 1px 3px 1px rgba(60, 64, 67, 0.15);\n",
              "    fill: var(--button-hover-fill-color);\n",
              "  }\n",
              "\n",
              "  .colab-df-quickchart-complete:disabled,\n",
              "  .colab-df-quickchart-complete:disabled:hover {\n",
              "    background-color: var(--disabled-bg-color);\n",
              "    fill: var(--disabled-fill-color);\n",
              "    box-shadow: none;\n",
              "  }\n",
              "\n",
              "  .colab-df-spinner {\n",
              "    border: 2px solid var(--fill-color);\n",
              "    border-color: transparent;\n",
              "    border-bottom-color: var(--fill-color);\n",
              "    animation:\n",
              "      spin 1s steps(1) infinite;\n",
              "  }\n",
              "\n",
              "  @keyframes spin {\n",
              "    0% {\n",
              "      border-color: transparent;\n",
              "      border-bottom-color: var(--fill-color);\n",
              "      border-left-color: var(--fill-color);\n",
              "    }\n",
              "    20% {\n",
              "      border-color: transparent;\n",
              "      border-left-color: var(--fill-color);\n",
              "      border-top-color: var(--fill-color);\n",
              "    }\n",
              "    30% {\n",
              "      border-color: transparent;\n",
              "      border-left-color: var(--fill-color);\n",
              "      border-top-color: var(--fill-color);\n",
              "      border-right-color: var(--fill-color);\n",
              "    }\n",
              "    40% {\n",
              "      border-color: transparent;\n",
              "      border-right-color: var(--fill-color);\n",
              "      border-top-color: var(--fill-color);\n",
              "    }\n",
              "    60% {\n",
              "      border-color: transparent;\n",
              "      border-right-color: var(--fill-color);\n",
              "    }\n",
              "    80% {\n",
              "      border-color: transparent;\n",
              "      border-right-color: var(--fill-color);\n",
              "      border-bottom-color: var(--fill-color);\n",
              "    }\n",
              "    90% {\n",
              "      border-color: transparent;\n",
              "      border-bottom-color: var(--fill-color);\n",
              "    }\n",
              "  }\n",
              "</style>\n",
              "\n",
              "  <script>\n",
              "    async function quickchart(key) {\n",
              "      const quickchartButtonEl =\n",
              "        document.querySelector('#' + key + ' button');\n",
              "      quickchartButtonEl.disabled = true;  // To prevent multiple clicks.\n",
              "      quickchartButtonEl.classList.add('colab-df-spinner');\n",
              "      try {\n",
              "        const charts = await google.colab.kernel.invokeFunction(\n",
              "            'suggestCharts', [key], {});\n",
              "      } catch (error) {\n",
              "        console.error('Error during call to suggestCharts:', error);\n",
              "      }\n",
              "      quickchartButtonEl.classList.remove('colab-df-spinner');\n",
              "      quickchartButtonEl.classList.add('colab-df-quickchart-complete');\n",
              "    }\n",
              "    (() => {\n",
              "      let quickchartButtonEl =\n",
              "        document.querySelector('#df-ace6ea6e-444f-4b4a-a926-2f56bdcdd903 button');\n",
              "      quickchartButtonEl.style.display =\n",
              "        google.colab.kernel.accessAllowed ? 'block' : 'none';\n",
              "    })();\n",
              "  </script>\n",
              "</div>\n",
              "    </div>\n",
              "  </div>\n"
            ],
            "application/vnd.google.colaboratory.intrinsic+json": {
              "type": "dataframe",
              "variable_name": "high_corr_df",
              "summary": "{\n  \"name\": \"high_corr_df\",\n  \"rows\": 20,\n  \"fields\": [\n    {\n      \"column\": \"Column 1\",\n      \"properties\": {\n        \"dtype\": \"string\",\n        \"num_unique_values\": 11,\n        \"samples\": [\n          \"ARR_TIME\",\n          \"CRS_DEP_TIME\",\n          \"AIR_TIME\"\n        ],\n        \"semantic_type\": \"\",\n        \"description\": \"\"\n      }\n    },\n    {\n      \"column\": \"Column 2\",\n      \"properties\": {\n        \"dtype\": \"string\",\n        \"num_unique_values\": 11,\n        \"samples\": [\n          \"WHEELS_ON\",\n          \"DEP_TIME\",\n          \"DISTANCE\"\n        ],\n        \"semantic_type\": \"\",\n        \"description\": \"\"\n      }\n    },\n    {\n      \"column\": \"Correlation\",\n      \"properties\": {\n        \"dtype\": \"number\",\n        \"std\": 0.023834709131781182,\n        \"min\": 0.904804769108835,\n        \"max\": 0.9872862081441658,\n        \"num_unique_values\": 10,\n        \"samples\": [\n          0.9595797749001536,\n          0.9584476102963971,\n          0.9872862081441658\n        ],\n        \"semantic_type\": \"\",\n        \"description\": \"\"\n      }\n    }\n  ]\n}"
            }
          },
          "metadata": {},
          "execution_count": 27
        }
      ],
      "source": [
        "high_corr = corr[(corr > 0.9) & (corr < 1.0)]\n",
        "\n",
        "# Get the column pairs with high positive correlation\n",
        "high_corr_pairs = [(column1, column2, corr.loc[column1, column2]) for column1 in high_corr.columns for column2 in high_corr.index if high_corr.loc[column2, column1] > 0]\n",
        "\n",
        "# Create a DataFrame to display the column pairs and their correlation values\n",
        "high_corr_df = pd.DataFrame(high_corr_pairs, columns=['Column 1', 'Column 2', 'Correlation'])\n",
        "high_corr_df"
      ]
    },
    {
      "cell_type": "code",
      "execution_count": 28,
      "metadata": {
        "colab": {
          "base_uri": "https://localhost:8080/",
          "height": 457
        },
        "id": "AIG8JElKu_2X",
        "outputId": "1ba287f6-95fc-4abd-86b4-20e18dc9e54f"
      },
      "outputs": [
        {
          "output_type": "display_data",
          "data": {
            "text/plain": [
              "<Figure size 640x480 with 1 Axes>"
            ],
            "image/png": "[encoded data removed]"
          },
          "metadata": {}
        }
      ],
      "source": [
        "# @title Correlation\n",
        "\n",
        "from matplotlib import pyplot as plt\n",
        "high_corr_df['Correlation'].plot(kind='hist', bins=20, title='Correlation')\n",
        "plt.gca().spines[['top', 'right',]].set_visible(False)"
      ]
    },
    {
      "cell_type": "code",
      "execution_count": 29,
      "metadata": {
        "colab": {
          "base_uri": "https://localhost:8080/",
          "height": 0
        },
        "id": "uRVG69eeutmm",
        "outputId": "100aa6d0-c6a1-4968-e7c2-ab1837d4e85e"
      },
      "outputs": [
        {
          "output_type": "stream",
          "name": "stdout",
          "text": [
            "         CRS_ELAPSED_TIME  ELAPSED_TIME  ELAPSED_TIME_DIFF\n",
            "0                   142.0         125.0              -17.0\n",
            "1                   100.0          89.0              -11.0\n",
            "2                    70.0          69.0               -1.0\n",
            "3                   154.0         150.0               -4.0\n",
            "4                    95.0          92.0               -3.0\n",
            "...                   ...           ...                ...\n",
            "3669671             133.0         155.0               22.0\n",
            "3669672             182.0         187.0                5.0\n",
            "3669673              89.0          75.0              -14.0\n",
            "3669674             195.0         210.0               15.0\n",
            "3669675             270.0         282.0               12.0\n",
            "\n",
            "[3669676 rows x 3 columns]\n"
          ]
        }
      ],
      "source": [
        "df_resampled['ELAPSED_TIME_DIFF'] = df_resampled['ELAPSED_TIME'] - df_resampled['CRS_ELAPSED_TIME']\n",
        "\n",
        "print(df_resampled[['CRS_ELAPSED_TIME', 'ELAPSED_TIME', 'ELAPSED_TIME_DIFF']])"
      ]
    },
    {
      "cell_type": "code",
      "execution_count": 30,
      "metadata": {
        "id": "KkFl2uhfwYfY"
      },
      "outputs": [],
      "source": [
        "columns_to_drop = ['DEP_TIME','CRS_DEP_TIME','WHEELS_OFF','WHEELS_ON','DEP_DELAY','ARR_DELAY','ELAPSED_TIME','AIR_TIME','DISTANCE','CRS_ELAPSED_TIME']\n",
        "\n",
        "df_resampled = df_resampled.drop(columns_to_drop, axis=1)"
      ]
    },
    {
      "cell_type": "code",
      "execution_count": 31,
      "metadata": {
        "colab": {
          "base_uri": "https://localhost:8080/",
          "height": 0
        },
        "id": "lljr7k1YwovN",
        "outputId": "819d7ce6-7e96-4d8d-d4c9-0b8a9a66b4d4"
      },
      "outputs": [
        {
          "output_type": "stream",
          "name": "stdout",
          "text": [
            "<class 'pandas.core.frame.DataFrame'>\n",
            "RangeIndex: 3669676 entries, 0 to 3669675\n",
            "Data columns (total 17 columns):\n",
            " #   Column             Dtype  \n",
            "---  ------             -----  \n",
            " 0   AIRLINE            object \n",
            " 1   AIRLINE_DOT        object \n",
            " 2   AIRLINE_CODE       object \n",
            " 3   DOT_CODE           int64  \n",
            " 4   FL_NUMBER          int64  \n",
            " 5   ORIGIN             object \n",
            " 6   ORIGIN_CITY        object \n",
            " 7   DEST               object \n",
            " 8   DEST_CITY          object \n",
            " 9   TAXI_OUT           float64\n",
            " 10  TAXI_IN            float64\n",
            " 11  CRS_ARR_TIME       int64  \n",
            " 12  ARR_TIME           float64\n",
            " 13  CANCELLED          float64\n",
            " 14  DIVERTED           float64\n",
            " 15  FLIGHT_STATUS      int64  \n",
            " 16  ELAPSED_TIME_DIFF  float64\n",
            "dtypes: float64(6), int64(4), object(7)\n",
            "memory usage: 476.0+ MB\n"
          ]
        }
      ],
      "source": [
        "df_resampled.info()"
      ]
    },
    {
      "cell_type": "code",
      "execution_count": 32,
      "metadata": {
        "id": "197nf5820I0a"
      },
      "outputs": [],
      "source": [
        "X = df_resampled.drop('FLIGHT_STATUS',axis=1)\n",
        "Y = df_resampled['FLIGHT_STATUS']"
      ]
    },
    {
      "cell_type": "code",
      "execution_count": 33,
      "metadata": {
        "id": "5-MTL-h45s7C"
      },
      "outputs": [],
      "source": [
        "# Splitting data into train and test\n",
        "from sklearn.model_selection import train_test_split\n",
        "X_train, X_test, Y_train, Y_test = train_test_split(X, Y, test_size=0.3, random_state=50)"
      ]
    },
    {
      "cell_type": "code",
      "execution_count": 34,
      "metadata": {
        "colab": {
          "base_uri": "https://localhost:8080/",
          "height": 0
        },
        "id": "sAuX6BCo6k4Y",
        "outputId": "d42c434c-454f-455d-eddc-591a05e8cb81"
      },
      "outputs": [
        {
          "output_type": "execute_result",
          "data": {
            "text/plain": [
              "((2568773, 16), (1100903, 16), (2568773,), (1100903,))"
            ]
          },
          "metadata": {},
          "execution_count": 34
        }
      ],
      "source": [
        "X_train.shape, X_test.shape, Y_train.shape, Y_test.shape"
      ]
    },
    {
      "cell_type": "code",
      "execution_count": 35,
      "metadata": {
        "colab": {
          "base_uri": "https://localhost:8080/",
          "height": 0
        },
        "id": "MRbGSebj6ppn",
        "outputId": "27e91a19-c46f-4b19-f6bf-f45ef25b1f7b"
      },
      "outputs": [
        {
          "output_type": "stream",
          "name": "stdout",
          "text": [
            "Train data shape: (2568773, 16)\n",
            "Test data shape: (1100903, 16)\n"
          ]
        }
      ],
      "source": [
        "print(\"Train data shape:\", X_train.shape)\n",
        "print(\"Test data shape:\", X_test.shape)"
      ]
    },
    {
      "cell_type": "code",
      "execution_count": 36,
      "metadata": {
        "colab": {
          "base_uri": "https://localhost:8080/",
          "height": 0
        },
        "id": "O9ARvAUM6qLf",
        "outputId": "4151193c-cf64-4bc0-f425-d3f28e4a0fa8"
      },
      "outputs": [
        {
          "output_type": "stream",
          "name": "stdout",
          "text": [
            "Classification Report:\n",
            "              precision    recall  f1-score   support\n",
            "\n",
            "           0       0.65      0.73      0.69    366448\n",
            "           1       0.69      0.61      0.65    367488\n",
            "\n",
            "    accuracy                           0.67    733936\n",
            "   macro avg       0.67      0.67      0.67    733936\n",
            "weighted avg       0.67      0.67      0.67    733936\n",
            "\n",
            "Confusion Matrix:\n",
            "[[267853  98595]\n",
            " [143529 223959]]\n"
          ]
        }
      ],
      "source": [
        "from sklearn.model_selection import train_test_split\n",
        "from sklearn.linear_model import LogisticRegression\n",
        "from sklearn.metrics import classification_report, confusion_matrix\n",
        "from sklearn.preprocessing import StandardScaler\n",
        "import pandas as pd\n",
        "\n",
        "# Assuming 'data' is your DataFrame containing the features and target variable\n",
        "# Drop non-numeric columns for simplicity\n",
        "data_numeric = df_resampled.select_dtypes(include=['number'])\n",
        "\n",
        "# Split data into features (X) and target variable (y)\n",
        "X = data_numeric.drop(columns=['FLIGHT_STATUS'])\n",
        "y = data_numeric['FLIGHT_STATUS']\n",
        "\n",
        "# Split the data into training and testing sets (80% train, 20% test)\n",
        "X_train, X_test, y_train, y_test = train_test_split(X, y, test_size=0.2, random_state=42)\n",
        "\n",
        "# Standardize the features\n",
        "scaler = StandardScaler()\n",
        "X_train_scaled = scaler.fit_transform(X_train)\n",
        "X_test_scaled = scaler.transform(X_test)\n",
        "\n",
        "# Create a logistic regression model\n",
        "log_reg = LogisticRegression()\n",
        "\n",
        "# Fit the model on the training data\n",
        "log_reg.fit(X_train_scaled, y_train)\n",
        "\n",
        "# Predict on the test set\n",
        "y_pred = log_reg.predict(X_test_scaled)\n",
        "\n",
        "# Evaluate the model\n",
        "print(\"Classification Report:\")\n",
        "print(classification_report(y_test, y_pred))\n",
        "\n",
        "print(\"Confusion Matrix:\")\n",
        "print(confusion_matrix(y_test, y_pred))\n"
      ]
    },
    {
      "cell_type": "code",
      "execution_count": 37,
      "metadata": {
        "colab": {
          "base_uri": "https://localhost:8080/",
          "height": 0
        },
        "id": "X2ETJkS-7nVZ",
        "outputId": "13279b4d-4ca0-4299-d593-f6b1bfdcf6d2"
      },
      "outputs": [
        {
          "output_type": "stream",
          "name": "stdout",
          "text": [
            "K-Nearest Neighbors Classifier Report:\n",
            "              precision    recall  f1-score   support\n",
            "\n",
            "           0       0.97      0.95      0.96    366448\n",
            "           1       0.95      0.97      0.96    367488\n",
            "\n",
            "    accuracy                           0.96    733936\n",
            "   macro avg       0.96      0.96      0.96    733936\n",
            "weighted avg       0.96      0.96      0.96    733936\n",
            "\n",
            "Confusion Matrix:\n",
            "[[348942  17506]\n",
            " [ 11022 356466]]\n"
          ]
        }
      ],
      "source": [
        "from sklearn.neighbors import KNeighborsClassifier\n",
        "\n",
        "# Initialize the KNN Classifier\n",
        "knn_classifier = KNeighborsClassifier()\n",
        "\n",
        "# Fit the model to the training data\n",
        "knn_classifier.fit(X_train, y_train)\n",
        "\n",
        "# Predict on the test data\n",
        "knn_predictions = knn_classifier.predict(X_test)\n",
        "\n",
        "# Classification report\n",
        "print(\"K-Nearest Neighbors Classifier Report:\")\n",
        "print(classification_report(y_test, knn_predictions))\n",
        "\n",
        "# Confusion matrix\n",
        "print(\"Confusion Matrix:\")\n",
        "print(confusion_matrix(y_test, knn_predictions))"
      ]
    },
    {
      "cell_type": "code",
      "execution_count": 38,
      "metadata": {
        "colab": {
          "base_uri": "https://localhost:8080/",
          "height": 0
        },
        "id": "GLlZ_S5e0BwL",
        "outputId": "065b9ceb-8c42-4c2e-eb3c-08492c1e1cd6"
      },
      "outputs": [
        {
          "output_type": "stream",
          "name": "stdout",
          "text": [
            "Gradient Boosting Classifier Report:\n",
            "              precision    recall  f1-score   support\n",
            "\n",
            "           0       0.82      0.93      0.87    366448\n",
            "           1       0.92      0.79      0.85    367488\n",
            "\n",
            "    accuracy                           0.86    733936\n",
            "   macro avg       0.87      0.86      0.86    733936\n",
            "weighted avg       0.87      0.86      0.86    733936\n",
            "\n",
            "Confusion Matrix:\n",
            "[[342165  24283]\n",
            " [ 75653 291835]]\n"
          ]
        }
      ],
      "source": [
        "from sklearn.ensemble import GradientBoostingClassifier\n",
        "\n",
        "# Initialize the Gradient Boosting Classifier\n",
        "gb_classifier = GradientBoostingClassifier()\n",
        "\n",
        "# Fit the model to the training data\n",
        "gb_classifier.fit(X_train, y_train)\n",
        "\n",
        "# Predict on the test data\n",
        "gb_predictions = gb_classifier.predict(X_test)\n",
        "\n",
        "# Classification report\n",
        "print(\"Gradient Boosting Classifier Report:\")\n",
        "print(classification_report(y_test, gb_predictions))\n",
        "\n",
        "# Confusion matrix\n",
        "print(\"Confusion Matrix:\")\n",
        "print(confusion_matrix(y_test, gb_predictions))"
      ]
    },
    {
      "cell_type": "code",
      "execution_count": 39,
      "metadata": {
        "colab": {
          "base_uri": "https://localhost:8080/",
          "height": 0
        },
        "id": "KZkzznBdfzgQ",
        "outputId": "a4902439-65c7-4abf-b979-a6fabd58f823"
      },
      "outputs": [
        {
          "output_type": "stream",
          "name": "stdout",
          "text": [
            "Random Forest Classifier Report:\n",
            "              precision    recall  f1-score   support\n",
            "\n",
            "           0       1.00      0.99      0.99    366448\n",
            "           1       0.99      1.00      0.99    367488\n",
            "\n",
            "    accuracy                           0.99    733936\n",
            "   macro avg       0.99      0.99      0.99    733936\n",
            "weighted avg       0.99      0.99      0.99    733936\n",
            "\n",
            "Confusion Matrix:\n",
            "[[361289   5159]\n",
            " [   758 366730]]\n"
          ]
        }
      ],
      "source": [
        "from sklearn.ensemble import RandomForestClassifier\n",
        "\n",
        "# Initialize the Random Forest Classifier\n",
        "rf_classifier = RandomForestClassifier()\n",
        "\n",
        "# Fit the model to the training data\n",
        "rf_classifier.fit(X_train, y_train)\n",
        "\n",
        "# Predict on the test data\n",
        "rf_predictions = rf_classifier.predict(X_test)\n",
        "\n",
        "# Classification report\n",
        "print(\"Random Forest Classifier Report:\")\n",
        "print(classification_report(y_test, rf_predictions))\n",
        "\n",
        "# Confusion matrix\n",
        "print(\"Confusion Matrix:\")\n",
        "print(confusion_matrix(y_test, rf_predictions))\n"
      ]
    }
  ],
  "metadata": {
    "colab": {
      "provenance": []
    },
    "kernelspec": {
      "display_name": "Python 3",
      "name": "python3"
    },
    "language_info": {
      "name": "python"
    }
  },
  "nbformat": 4,
  "nbformat_minor": 0
}